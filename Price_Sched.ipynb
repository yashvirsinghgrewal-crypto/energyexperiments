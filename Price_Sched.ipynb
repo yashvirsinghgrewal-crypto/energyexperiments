{
 "cells": [
  {
   "cell_type": "code",
   "execution_count": 1,
   "metadata": {},
   "outputs": [
    {
     "name": "stdout",
     "output_type": "stream",
     "text": [
      "WARNING:tensorflow:\n",
      "The TensorFlow contrib module will not be included in TensorFlow 2.0.\n",
      "For more information, please see:\n",
      "  * https://github.com/tensorflow/community/blob/master/rfcs/20180907-contrib-sunset.md\n",
      "  * https://github.com/tensorflow/addons\n",
      "  * https://github.com/tensorflow/io (for I/O related ops)\n",
      "If you depend on functionality not listed there, please file an issue.\n",
      "\n"
     ]
    }
   ],
   "source": [
    "from thermalmodels_fixedDR import FirstOrderModel\n",
    "from DR_thermalenvironments_Fix import DirectControlEnv, SetpointDeltaEnv, DirectSetpointEnv\n",
    "\n",
    "from stable_baselines.deepq.policies import MlpPolicy\n",
    "from stable_baselines import DQN, A2C,PPO2,ACER,TRPO"
   ]
  },
  {
   "cell_type": "code",
   "execution_count": 2,
   "metadata": {},
   "outputs": [],
   "source": [
    "from itertools import cycle\n",
    "import pandas as pd\n",
    "import numpy as np"
   ]
  },
  {
   "cell_type": "code",
   "execution_count": 3,
   "metadata": {},
   "outputs": [],
   "source": [
    "df = pd.read_csv('combined_csv.csv')"
   ]
  },
  {
   "cell_type": "code",
   "execution_count": 4,
   "metadata": {},
   "outputs": [],
   "source": [
    "prices = df[[\"Spot Price ($/MWh)\"]]      \n",
    "prices = np.array(prices)\n"
   ]
  },
  {
   "cell_type": "code",
   "execution_count": 5,
   "metadata": {},
   "outputs": [
    {
     "data": {
      "text/plain": [
       "-41.38"
      ]
     },
     "execution_count": 5,
     "metadata": {},
     "output_type": "execute_result"
    }
   ],
   "source": [
    "np.min(prices)"
   ]
  },
  {
   "cell_type": "code",
   "execution_count": 6,
   "metadata": {
    "scrolled": true
   },
   "outputs": [
    {
     "name": "stdout",
     "output_type": "stream",
     "text": [
      "Loading a model without an environment, this model cannot be trained until it has a valid environment.\n",
      "WARNING:tensorflow:From /usr/local/lib/python3.6/site-packages/stable_baselines/common/misc_util.py:26: The name tf.set_random_seed is deprecated. Please use tf.compat.v1.set_random_seed instead.\n",
      "\n",
      "WARNING:tensorflow:From /usr/local/lib/python3.6/site-packages/stable_baselines/common/tf_util.py:191: The name tf.ConfigProto is deprecated. Please use tf.compat.v1.ConfigProto instead.\n",
      "\n",
      "WARNING:tensorflow:From /usr/local/lib/python3.6/site-packages/stable_baselines/common/tf_util.py:200: The name tf.Session is deprecated. Please use tf.compat.v1.Session instead.\n",
      "\n",
      "WARNING:tensorflow:From /usr/local/lib/python3.6/site-packages/stable_baselines/common/policies.py:116: The name tf.variable_scope is deprecated. Please use tf.compat.v1.variable_scope instead.\n",
      "\n",
      "WARNING:tensorflow:From /usr/local/lib/python3.6/site-packages/stable_baselines/common/input.py:25: The name tf.placeholder is deprecated. Please use tf.compat.v1.placeholder instead.\n",
      "\n",
      "WARNING:tensorflow:From /usr/local/lib/python3.6/site-packages/stable_baselines/common/policies.py:561: flatten (from tensorflow.python.layers.core) is deprecated and will be removed in a future version.\n",
      "Instructions for updating:\n",
      "Use keras.layers.flatten instead.\n",
      "WARNING:tensorflow:From /usr/local/lib/python3.6/site-packages/tensorflow_core/python/layers/core.py:332: Layer.apply (from tensorflow.python.keras.engine.base_layer) is deprecated and will be removed in a future version.\n",
      "Instructions for updating:\n",
      "Please use `layer.__call__` method instead.\n",
      "WARNING:tensorflow:From /usr/local/lib/python3.6/site-packages/stable_baselines/common/tf_layers.py:123: The name tf.get_variable is deprecated. Please use tf.compat.v1.get_variable instead.\n",
      "\n",
      "WARNING:tensorflow:From /usr/local/lib/python3.6/site-packages/stable_baselines/common/distributions.py:326: The name tf.random_uniform is deprecated. Please use tf.random.uniform instead.\n",
      "\n",
      "WARNING:tensorflow:From /usr/local/lib/python3.6/site-packages/stable_baselines/common/distributions.py:327: The name tf.log is deprecated. Please use tf.math.log instead.\n",
      "\n",
      "WARNING:tensorflow:From /usr/local/lib/python3.6/site-packages/stable_baselines/a2c/a2c.py:160: The name tf.summary.scalar is deprecated. Please use tf.compat.v1.summary.scalar instead.\n",
      "\n",
      "WARNING:tensorflow:From /usr/local/lib/python3.6/site-packages/stable_baselines/common/tf_util.py:449: The name tf.get_collection is deprecated. Please use tf.compat.v1.get_collection instead.\n",
      "\n",
      "WARNING:tensorflow:From /usr/local/lib/python3.6/site-packages/stable_baselines/common/tf_util.py:449: The name tf.GraphKeys is deprecated. Please use tf.compat.v1.GraphKeys instead.\n",
      "\n",
      "WARNING:tensorflow:From /usr/local/lib/python3.6/site-packages/tensorflow_core/python/ops/clip_ops.py:301: where (from tensorflow.python.ops.array_ops) is deprecated and will be removed in a future version.\n",
      "Instructions for updating:\n",
      "Use tf.where in 2.0, which has the same broadcast rule as np.where\n",
      "WARNING:tensorflow:From /usr/local/lib/python3.6/site-packages/stable_baselines/a2c/a2c.py:184: The name tf.train.RMSPropOptimizer is deprecated. Please use tf.compat.v1.train.RMSPropOptimizer instead.\n",
      "\n",
      "WARNING:tensorflow:From /usr/local/lib/python3.6/site-packages/tensorflow_core/python/training/rmsprop.py:119: calling Ones.__init__ (from tensorflow.python.ops.init_ops) with dtype is deprecated and will be removed in a future version.\n",
      "Instructions for updating:\n",
      "Call initializer instance with the dtype argument instead of passing it to the constructor\n",
      "WARNING:tensorflow:From /usr/local/lib/python3.6/site-packages/stable_baselines/a2c/a2c.py:194: The name tf.global_variables_initializer is deprecated. Please use tf.compat.v1.global_variables_initializer instead.\n",
      "\n",
      "WARNING:tensorflow:From /usr/local/lib/python3.6/site-packages/stable_baselines/a2c/a2c.py:196: The name tf.summary.merge_all is deprecated. Please use tf.compat.v1.summary.merge_all instead.\n",
      "\n"
     ]
    }
   ],
   "source": [
    "policy1 = A2C.load('a2c_2')"
   ]
  },
  {
   "cell_type": "code",
   "execution_count": 7,
   "metadata": {},
   "outputs": [
    {
     "name": "stdout",
     "output_type": "stream",
     "text": [
      "Loading a model without an environment, this model cannot be trained until it has a valid environment.\n"
     ]
    }
   ],
   "source": [
    "policy2 = A2C.load('a2c_3')"
   ]
  },
  {
   "cell_type": "code",
   "execution_count": 8,
   "metadata": {},
   "outputs": [],
   "source": [
    "from stable_baselines.common.policies import FeedForwardPolicy, register_policy\n",
    "from stable_baselines.common.vec_env import DummyVecEnv\n",
    "from stable_baselines import A2C\n",
    "\n",
    "# Custom MLP policy of three layers of size 128 each\n",
    "class CustomPolicy(FeedForwardPolicy):\n",
    "    def __init__(self, *args, **kwargs):\n",
    "        super(CustomPolicy, self).__init__(*args, **kwargs,\n",
    "                                           net_arch=[dict(pi=[128, 128, 128],\n",
    "                                                          vf=[256,128,128,128])],\n",
    "                                           feature_extraction=\"mlp\")\n",
    "\n",
    "# Register the policy, it will check that the name is not already taken\n",
    "register_policy('CustomPolicy', CustomPolicy)"
   ]
  },
  {
   "cell_type": "code",
   "execution_count": 14,
   "metadata": {
    "scrolled": true
   },
   "outputs": [
    {
     "data": {
      "text/plain": [
       "<stable_baselines.acer.acer_simple.ACER at 0x7fd77a5bf320>"
      ]
     },
     "execution_count": 14,
     "metadata": {},
     "output_type": "execute_result"
    }
   ],
   "source": [
    "#Instantiate the firstorder model\n",
    "tcl = FirstOrderModel(10*60, 20*60, 21,2,0.2)  # Calling the function firstorder model arg1,2- seconds to heat and seconds to cool, arg3-Goal, flex and noise\n",
    "\n",
    "env = DirectSetpointEnv(tcl,prices,policy1,policy2)\n",
    "\n",
    "#model3 = DQN(\"MlpPolicy\", env, verbose=1, exploration_fraction=0.30, exploration_final_eps=0.1,target_network_update_freq=10000,prioritized_replay = True,buffer_size=100000,double_q = True,\n",
    "           #  seed = 30, tensorboard_log=\"/floyd/home\")    # \n",
    "model2 = ACER(\"MlpPolicy\", env, gamma=0.95, verbose=0,seed = 12211,tensorboard_log=\"/floyd/home/price\")\n",
    "#model = PPO2(\"MlpPolicy\", env, gamma=0.96, verbose=0,tensorboard_log=\"/floyd/home/fix\",seed = 121);\n",
    "model2.learn(total_timesteps=70000)\n",
    "#model2.save(\"default1\")"
   ]
  },
  {
   "cell_type": "code",
   "execution_count": 15,
   "metadata": {},
   "outputs": [],
   "source": [
    "from stable_baselines.common.vec_env import VecVideoRecorder, DummyVecEnv"
   ]
  },
  {
   "cell_type": "code",
   "execution_count": 36,
   "metadata": {},
   "outputs": [],
   "source": [
    "from thermalmodels import FirstOrderModel\n",
    "from DR_thermalenvironments_price import DirectControlEnv, SetpointDeltaEnv, DirectSetpointEnv\n",
    "\n",
    "from stable_baselines.deepq.policies import MlpPolicy\n",
    "from stable_baselines import DQN, A2C,PPO2,ACER"
   ]
  },
  {
   "cell_type": "code",
   "execution_count": 37,
   "metadata": {},
   "outputs": [],
   "source": [
    "tcl = FirstOrderModel(25*60, 35*60, 21,2,0.2)  # Calling the function firstorder model arg1,2- seconds to heat and seconds to cool, arg3-Goal, flex and noise\n",
    "\n",
    "env = DirectSetpointEnv(tcl,prices,policy1,policy2)"
   ]
  },
  {
   "cell_type": "code",
   "execution_count": 38,
   "metadata": {},
   "outputs": [],
   "source": [
    "env = DummyVecEnv([lambda: env])"
   ]
  },
  {
   "cell_type": "code",
   "execution_count": 16,
   "metadata": {},
   "outputs": [],
   "source": [
    "def evaluate(model,env,n_eval_episodes,return_episode_rewards = False,deterministic = True, baseline = False):\n",
    "    episode_rewards, episode_lengths = [], []\n",
    "    episode_costs,episode_comforts = [],[]\n",
    "    for _ in range(n_eval_episodes):\n",
    "       # if _ == 0:\n",
    "        obs = env.reset()\n",
    "        done, state = False, None\n",
    "        episode_reward = 0.0\n",
    "        episode_length = 0\n",
    "        episode_cost = 0.0\n",
    "        episode_comfort = 0.0\n",
    "        \n",
    "        while not done:\n",
    "            action, state = model.predict(obs, state=state, deterministic=deterministic)\n",
    "            if baseline:\n",
    "                obs, reward, done, _info = env.step(21) # Ignore what the policy is predicting always set to 21\n",
    "                               \n",
    "            else:\n",
    "                obs, reward, done, _info = env.step(action)\n",
    "            episode_reward += reward\n",
    "            episode_length += 1\n",
    "            episode_cost += _info['Cost'] #Add up costs \n",
    "            episode_comfort += _info['Comfort']\n",
    "        \n",
    "        episode_rewards.append(episode_reward)\n",
    "        episode_lengths.append(episode_length)\n",
    "        episode_costs.append(episode_cost)\n",
    "        episode_comforts.append(episode_comfort)\n",
    "        \n",
    "    mean_reward = np.mean(episode_rewards)\n",
    "    std_reward = np.std(episode_rewards)\n",
    "    mean_cost = np.mean(episode_costs)\n",
    "    std_cost = np.std(episode_costs)\n",
    "    mean_comfort = np.mean(episode_comforts)\n",
    "    std_comfort = np.std(episode_comforts)\n",
    "    \n",
    "    if return_episode_rewards:\n",
    "        return episode_rewards, episode_lengths\n",
    "    return mean_reward, std_reward,mean_cost,std_cost,mean_comfort,std_comfort"
   ]
  },
  {
   "cell_type": "code",
   "execution_count": 17,
   "metadata": {},
   "outputs": [
    {
     "name": "stdout",
     "output_type": "stream",
     "text": [
      "mean_reward:273.53 +/- 5.81\n",
      "total_costs:6.70 +/- 1.60\n",
      "total_comfort:288.00 +/- 0.00\n"
     ]
    }
   ],
   "source": [
    "# Model A2C Policy\n",
    "tcl = FirstOrderModel(10*60,20*60, 21,2,0.2) \n",
    "env = DirectSetpointEnv(tcl,prices,policy1,policy2)\n",
    "mean_reward, std_reward,sum_cost,std_cost,sum_comfort,std_comfort = evaluate(model2, env, n_eval_episodes=30,baseline = True)\n",
    "print(f\"mean_reward:{mean_reward:.2f} +/- {std_reward:.2f}\")\n",
    "print(f\"total_costs:{sum_cost:.2f} +/- {std_cost:.2f}\")\n",
    "print(f\"total_comfort:{sum_comfort:.2f} +/- {std_comfort:.2f}\")"
   ]
  },
  {
   "cell_type": "code",
   "execution_count": 18,
   "metadata": {},
   "outputs": [
    {
     "name": "stdout",
     "output_type": "stream",
     "text": [
      "mean_reward:276.63 +/- 4.81\n",
      "total_costs:5.71 +/- 1.26\n",
      "total_comfort:287.62 +/- 0.19\n"
     ]
    }
   ],
   "source": [
    "# Model A2C Policy\n",
    "tcl = FirstOrderModel(10*60,20*60, 21,2,0.2) \n",
    "env = DirectSetpointEnv(tcl,prices,policy1,policy2)\n",
    "amean_reward, astd_reward,asum_cost,astd_cost,asum_comfort,astd_comfort = evaluate(model2, env, n_eval_episodes=30)\n",
    "print(f\"mean_reward:{amean_reward:.2f} +/- {astd_reward:.2f}\")\n",
    "print(f\"total_costs:{asum_cost:.2f} +/- {astd_cost:.2f}\")\n",
    "print(f\"total_comfort:{asum_comfort:.2f} +/- {astd_comfort:.2f}\")"
   ]
  },
  {
   "cell_type": "code",
   "execution_count": 15,
   "metadata": {},
   "outputs": [
    {
     "name": "stdout",
     "output_type": "stream",
     "text": [
      "Loading a model without an environment, this model cannot be trained until it has a valid environment.\n"
     ]
    }
   ],
   "source": [
    "model_new = A2C.load(\"trans01\",tensorboard_log=\"/floyd/home/trans_t1\",seed=100011)"
   ]
  },
  {
   "cell_type": "code",
   "execution_count": 18,
   "metadata": {},
   "outputs": [],
   "source": [
    "env = DummyVecEnv([lambda: env])\n",
    "model_new.set_env(env)"
   ]
  },
  {
   "cell_type": "code",
   "execution_count": null,
   "metadata": {},
   "outputs": [],
   "source": [
    "# Model A2C Policy\n",
    "tcl = FirstOrderModel(22*60,33*60, 21,2,0.2) \n",
    "env = DirectSetpointEnv(tcl,prices,policy1,policy2)\n",
    "amean_reward, astd_reward,asum_cost,astd_cost,asum_comfort,astd_comfort = evaluate(model_new, env, n_eval_episodes=50)\n",
    "print(f\"mean_reward:{amean_reward:.2f} +/- {astd_reward:.2f}\")\n",
    "print(f\"total_costs:{asum_cost:.2f} +/- {astd_cost:.2f}\")\n",
    "print(f\"total_comfort:{asum_comfort:.2f} +/- {astd_comfort:.2f}\")"
   ]
  },
  {
   "cell_type": "code",
   "execution_count": 13,
   "metadata": {},
   "outputs": [],
   "source": [
    "for i in price3:\n",
    "    if i > 80:\n",
    "        print(i)"
   ]
  },
  {
   "cell_type": "code",
   "execution_count": 22,
   "metadata": {},
   "outputs": [],
   "source": [
    "obs = env.reset()"
   ]
  },
  {
   "cell_type": "code",
   "execution_count": 23,
   "metadata": {},
   "outputs": [],
   "source": [
    "obs = [18.85872821, 18         ,38.50959   ]"
   ]
  },
  {
   "cell_type": "code",
   "execution_count": 10,
   "metadata": {
    "scrolled": true
   },
   "outputs": [],
   "source": [
    "seconds3 = []\n",
    "price3 = []\n",
    "reward3 = []\n",
    "temp3 = []\n",
    "setpoint3 = []\n",
    "times = []\n",
    "comf = []\n",
    "obs = env.reset()\n",
    "dones = False\n",
    "#while not dones:\n",
    "for i in range(2000):\n",
    "    action, _states = model2.predict(obs)\n",
    "   \n",
    "    obs, rewards, dones, info = env.step(action)\n",
    "    \n",
    "    seconds3.append(info['SecondsON'])\n",
    "    setpoint3.append((info['Action']/2) + 10)\n",
    "    reward3.append(rewards)\n",
    "    times.append(i)\n",
    "    temp3.append(obs[0])\n",
    "    comf.append(info['Comfort'])\n",
    "    price3.append(info['Price'])\n",
    " #   print(obs[0],rewards,info)\n",
    "   # env.render(mode='human')"
   ]
  },
  {
   "cell_type": "code",
   "execution_count": 11,
   "metadata": {},
   "outputs": [],
   "source": [
    "%matplotlib inline\n",
    "import matplotlib.pyplot as plt"
   ]
  },
  {
   "cell_type": "code",
   "execution_count": 13,
   "metadata": {},
   "outputs": [
    {
     "data": {
      "image/png": "[encoded data removed]",
      "text/plain": [
       "<Figure size 990x450 with 3 Axes>"
      ]
     },
     "metadata": {
      "needs_background": "light"
     },
     "output_type": "display_data"
    }
   ],
   "source": [
    "### Plot the resulting temperature trajectory.\n",
    "f, (ax1, ax2, ax3) = plt.subplots(3, 1, sharex=True, figsize=(11,5), dpi=90)\n",
    "plt.subplots_adjust(hspace=0.075) # Reduce space between plots\n",
    "#ax1.axvspan(60, 66, facecolor='0.95') # Shade the demand-response times with grey background\n",
    "#ax1.axvspan(200, 206, facecolor='0.95')\n",
    "\n",
    "#ax2.axvspan(60, 66, facecolor='0.85') # Shade the demand-response times with grey background\n",
    "#ax2.axvspan(200, 206, facecolor='0.85')\n",
    "\n",
    "ax1.axhline(y=21, linestyle=':', color='red') # Plot the goal temperature\n",
    "ax1.plot(times[100:400], temp3[100:400]) # Plot the observed temperatures\n",
    "ax1.set_ylabel('Temperature')\n",
    "ax1.set_ylim(14,28)\n",
    "ax2.plot(times[100:400], price3[100:400]) # Plot the activations on a separate axis.\n",
    "ax2.set_xlabel('Timestep')\n",
    "ax2.set_ylabel('Price');\n",
    "ax3.bar(times[100:400],seconds3[100:400])\n",
    "ax3.set_ylabel('Power');"
   ]
  },
  {
   "cell_type": "code",
   "execution_count": 11,
   "metadata": {},
   "outputs": [
    {
     "data": {
      "text/plain": [
       "(-1, 1.0)"
      ]
     },
     "execution_count": 11,
     "metadata": {},
     "output_type": "execute_result"
    }
   ],
   "source": [
    "min(reward3),max(reward3)"
   ]
  },
  {
   "cell_type": "code",
   "execution_count": 28,
   "metadata": {},
   "outputs": [],
   "source": [
    "X=np.array(reward3).reshape(1,-1)"
   ]
  },
  {
   "cell_type": "code",
   "execution_count": 37,
   "metadata": {},
   "outputs": [
    {
     "data": {
      "text/plain": [
       "(1, 20000)"
      ]
     },
     "execution_count": 37,
     "metadata": {},
     "output_type": "execute_result"
    }
   ],
   "source": [
    "X.shape"
   ]
  },
  {
   "cell_type": "code",
   "execution_count": 13,
   "metadata": {},
   "outputs": [],
   "source": [
    "from sklearn.preprocessing import MinMaxScaler"
   ]
  },
  {
   "cell_type": "code",
   "execution_count": 39,
   "metadata": {},
   "outputs": [
    {
     "name": "stdout",
     "output_type": "stream",
     "text": [
      "MinMaxScaler(copy=True, feature_range=(0, 1))\n",
      "[0.9990471  0.99179011 0.9727609  ... 0.99390729 0.99991515 1.        ]\n"
     ]
    }
   ],
   "source": [
    "scaler = MinMaxScaler()\n",
    "print(scaler.fit(X))\n",
    "print(scaler.data_max_)\n"
   ]
  },
  {
   "cell_type": "code",
   "execution_count": 20,
   "metadata": {},
   "outputs": [],
   "source": [
    "a = scaler.transform(X)"
   ]
  },
  {
   "cell_type": "code",
   "execution_count": 43,
   "metadata": {},
   "outputs": [],
   "source": [
    "params = scaler.get_params(deep=True)"
   ]
  },
  {
   "cell_type": "code",
   "execution_count": 44,
   "metadata": {},
   "outputs": [],
   "source": [
    "scaler_2 = MinMaxScaler()"
   ]
  },
  {
   "cell_type": "code",
   "execution_count": 46,
   "metadata": {},
   "outputs": [
    {
     "ename": "KeyError",
     "evalue": "0",
     "output_type": "error",
     "traceback": [
      "\u001b[0;31m---------------------------------------------------------------------------\u001b[0m",
      "\u001b[0;31mKeyError\u001b[0m                                  Traceback (most recent call last)",
      "\u001b[0;32m<ipython-input-46-809239551ec9>\u001b[0m in \u001b[0;36m<module>\u001b[0;34m\u001b[0m\n\u001b[0;32m----> 1\u001b[0;31m \u001b[0mscaler_2\u001b[0m\u001b[0;34m.\u001b[0m\u001b[0mset_params\u001b[0m\u001b[0;34m(\u001b[0m\u001b[0mparams\u001b[0m\u001b[0;34m[\u001b[0m\u001b[0;36m0\u001b[0m\u001b[0;34m]\u001b[0m\u001b[0;34m)\u001b[0m\u001b[0;34m\u001b[0m\u001b[0;34m\u001b[0m\u001b[0m\n\u001b[0m",
      "\u001b[0;31mKeyError\u001b[0m: 0"
     ]
    }
   ],
   "source": [
    "scaler_2.set_params(params[0])"
   ]
  },
  {
   "cell_type": "code",
   "execution_count": 40,
   "metadata": {},
   "outputs": [
    {
     "data": {
      "text/plain": [
       "array([[0.99952355],\n",
       "       [0.99589506],\n",
       "       [0.98638045],\n",
       "       ...,\n",
       "       [0.99695364],\n",
       "       [0.99995758],\n",
       "       [1.        ]])"
      ]
     },
     "execution_count": 40,
     "metadata": {},
     "output_type": "execute_result"
    }
   ],
   "source": [
    "a"
   ]
  },
  {
   "cell_type": "code",
   "execution_count": 41,
   "metadata": {},
   "outputs": [
    {
     "data": {
      "text/plain": [
       "[<matplotlib.lines.Line2D at 0x7f55207426a0>]"
      ]
     },
     "execution_count": 41,
     "metadata": {},
     "output_type": "execute_result"
    },
    {
     "data": {
      "image/png": "[encoded data removed]",
      "text/plain": [
       "<Figure size 432x288 with 1 Axes>"
      ]
     },
     "metadata": {
      "needs_background": "light"
     },
     "output_type": "display_data"
    }
   ],
   "source": [
    "plt.plot(a)"
   ]
  },
  {
   "cell_type": "code",
   "execution_count": 24,
   "metadata": {},
   "outputs": [],
   "source": [
    "X_std = (X - min(reward3)) / (max(reward3) - min(reward3))\n",
    "X_scaled = X_std * (0 - 1) + 0"
   ]
  },
  {
   "cell_type": "code",
   "execution_count": 25,
   "metadata": {},
   "outputs": [
    {
     "data": {
      "text/plain": [
       "array([[-0.99952355],\n",
       "       [-0.99589506],\n",
       "       [-0.98638045],\n",
       "       ...,\n",
       "       [-0.99695364],\n",
       "       [-0.99995758],\n",
       "       [-1.        ]])"
      ]
     },
     "execution_count": 25,
     "metadata": {},
     "output_type": "execute_result"
    }
   ],
   "source": [
    "X_scaled"
   ]
  },
  {
   "cell_type": "code",
   "execution_count": 11,
   "metadata": {},
   "outputs": [
    {
     "data": {
      "text/plain": [
       "9069"
      ]
     },
     "execution_count": 11,
     "metadata": {},
     "output_type": "execute_result"
    }
   ],
   "source": [
    "reward3.index(min(reward3))"
   ]
  },
  {
   "cell_type": "code",
   "execution_count": 12,
   "metadata": {},
   "outputs": [
    {
     "name": "stdout",
     "output_type": "stream",
     "text": [
      "17 29.5 0.846319278684096 0.5089127070498086 40.99138\n"
     ]
    }
   ],
   "source": [
    "print(seconds3[6],setpoint3[6],reward3[6],comf[6],price3[6])"
   ]
  },
  {
   "cell_type": "code",
   "execution_count": 44,
   "metadata": {},
   "outputs": [
    {
     "ename": "NameError",
     "evalue": "name 'temps' is not defined",
     "output_type": "error",
     "traceback": [
      "\u001b[0;31m---------------------------------------------------------------------------\u001b[0m",
      "\u001b[0;31mNameError\u001b[0m                                 Traceback (most recent call last)",
      "\u001b[0;32m<ipython-input-44-4ceb62ba13d3>\u001b[0m in \u001b[0;36m<module>\u001b[0;34m\u001b[0m\n\u001b[1;32m      4\u001b[0m \u001b[0;31m#ax1.axvspan(start, start+length, facecolor='0.95') # Shade the demand-response times with grey background\u001b[0m\u001b[0;34m\u001b[0m\u001b[0;34m\u001b[0m\u001b[0;34m\u001b[0m\u001b[0m\n\u001b[1;32m      5\u001b[0m \u001b[0max1\u001b[0m\u001b[0;34m.\u001b[0m\u001b[0maxhline\u001b[0m\u001b[0;34m(\u001b[0m\u001b[0my\u001b[0m\u001b[0;34m=\u001b[0m\u001b[0;36m20\u001b[0m\u001b[0;34m,\u001b[0m \u001b[0mlinestyle\u001b[0m\u001b[0;34m=\u001b[0m\u001b[0;34m':'\u001b[0m\u001b[0;34m,\u001b[0m \u001b[0mcolor\u001b[0m\u001b[0;34m=\u001b[0m\u001b[0;34m'black'\u001b[0m\u001b[0;34m)\u001b[0m \u001b[0;31m# Plot the goal temperature\u001b[0m\u001b[0;34m\u001b[0m\u001b[0;34m\u001b[0m\u001b[0m\n\u001b[0;32m----> 6\u001b[0;31m \u001b[0max1\u001b[0m\u001b[0;34m.\u001b[0m\u001b[0mplot\u001b[0m\u001b[0;34m(\u001b[0m\u001b[0mtimes\u001b[0m\u001b[0;34m,\u001b[0m \u001b[0mtemps\u001b[0m\u001b[0;34m)\u001b[0m \u001b[0;31m# Plot the observed temperatures\u001b[0m\u001b[0;34m\u001b[0m\u001b[0;34m\u001b[0m\u001b[0m\n\u001b[0m\u001b[1;32m      7\u001b[0m \u001b[0max1\u001b[0m\u001b[0;34m.\u001b[0m\u001b[0mset_ylabel\u001b[0m\u001b[0;34m(\u001b[0m\u001b[0;34m'Temperature'\u001b[0m\u001b[0;34m)\u001b[0m\u001b[0;34m\u001b[0m\u001b[0;34m\u001b[0m\u001b[0m\n\u001b[1;32m      8\u001b[0m \u001b[0max1\u001b[0m\u001b[0;34m.\u001b[0m\u001b[0mset_ylim\u001b[0m\u001b[0;34m(\u001b[0m\u001b[0;36m17.5\u001b[0m\u001b[0;34m,\u001b[0m\u001b[0;36m22.5\u001b[0m\u001b[0;34m)\u001b[0m\u001b[0;34m\u001b[0m\u001b[0;34m\u001b[0m\u001b[0m\n",
      "\u001b[0;31mNameError\u001b[0m: name 'temps' is not defined"
     ]
    },
    {
     "data": {
      "image/png": "[encoded data removed]",
      "text/plain": [
       "<Figure size 990x450 with 2 Axes>"
      ]
     },
     "metadata": {
      "needs_background": "light"
     },
     "output_type": "display_data"
    }
   ],
   "source": [
    "### Plot the resulting temperature trajectory.\n",
    "f, (ax1, ax2) = plt.subplots(2, 1, sharex=True, figsize=(11,5), dpi=90)\n",
    "plt.subplots_adjust(hspace=0.075) # Reduce space between plots\n",
    "#ax1.axvspan(start, start+length, facecolor='0.95') # Shade the demand-response times with grey background\n",
    "ax1.axhline(y=20, linestyle=':', color='black') # Plot the goal temperature\n",
    "ax1.plot(times, temps) # Plot the observed temperatures\n",
    "ax1.set_ylabel('Temperature')\n",
    "ax1.set_ylim(17.5,22.5)\n",
    "ax2.bar(times, uses) # Plot the activations on a separate axis.\n",
    "ax2.set_xlabel('Timestep')\n",
    "ax2.set_ylabel('Power');"
   ]
  },
  {
   "cell_type": "code",
   "execution_count": null,
   "metadata": {},
   "outputs": [],
   "source": []
  }
 ],
 "metadata": {
  "kernelspec": {
   "display_name": "Python 3",
   "language": "python",
   "name": "python3"
  },
  "language_info": {
   "codemirror_mode": {
    "name": "ipython",
    "version": 3
   },
   "file_extension": ".py",
   "mimetype": "text/x-python",
   "name": "python",
   "nbconvert_exporter": "python",
   "pygments_lexer": "ipython3",
   "version": "3.6.9"
  }
 },
 "nbformat": 4,
 "nbformat_minor": 4
}
