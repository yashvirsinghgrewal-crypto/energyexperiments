{
 "cells": [
  {
   "cell_type": "code",
   "execution_count": 9,
   "metadata": {},
   "outputs": [],
   "source": [
    "from thermalmodels_second import SecondOrderModel as second_temp_model\n",
    "from second_thermalenvironments import DirectSetpointEnv as second_temp_env"
   ]
  },
  {
   "cell_type": "code",
   "execution_count": 10,
   "metadata": {},
   "outputs": [],
   "source": [
    "from thermalmodels_second_price import SecondOrderModel as second_price_model\n",
    "from second_thermalenvironments_price import DirectSetpointEnv as second_price_env"
   ]
  },
  {
   "cell_type": "code",
   "execution_count": 11,
   "metadata": {},
   "outputs": [],
   "source": [
    "from thermalmodels_second_price_noise import SecondOrderModel as price_noise_model\n",
    "from second_thermalenvironments_price_noise import DirectSetpointEnv as price_noise_env"
   ]
  },
  {
   "cell_type": "code",
   "execution_count": 12,
   "metadata": {},
   "outputs": [],
   "source": [
    "from thermalmodels_second_noise import SecondOrderModel as temp_noise_model\n",
    "from second_thermalenvironments_noise import DirectSetpointEnv as temp_noise_env"
   ]
  },
  {
   "cell_type": "code",
   "execution_count": 13,
   "metadata": {},
   "outputs": [],
   "source": [
    "from thermalmodels_first import FirstOrderModel as first_temp_model\n",
    "from first_thermalenvironments import DirectSetpointEnv as first_temp_env\n"
   ]
  },
  {
   "cell_type": "code",
   "execution_count": 14,
   "metadata": {},
   "outputs": [],
   "source": [
    "from thermalmodels_first_price import FirstOrderModel as first_price_model\n",
    "from first_thermalenvironments_price import DirectSetpointEnv as first_price_env\n"
   ]
  },
  {
   "cell_type": "code",
   "execution_count": 15,
   "metadata": {},
   "outputs": [
    {
     "name": "stdout",
     "output_type": "stream",
     "text": [
      "WARNING:tensorflow:\n",
      "The TensorFlow contrib module will not be included in TensorFlow 2.0.\n",
      "For more information, please see:\n",
      "  * https://github.com/tensorflow/community/blob/master/rfcs/20180907-contrib-sunset.md\n",
      "  * https://github.com/tensorflow/addons\n",
      "  * https://github.com/tensorflow/io (for I/O related ops)\n",
      "If you depend on functionality not listed there, please file an issue.\n",
      "\n"
     ]
    }
   ],
   "source": [
    "from stable_baselines import DQN, A2C,PPO2,ACER,TRPO,ACKTR\n",
    "from stable_baselines.common.vec_env import DummyVecEnv\n",
    "from itertools import cycle\n",
    "import pandas as pd\n",
    "import numpy as np"
   ]
  },
  {
   "cell_type": "code",
   "execution_count": 22,
   "metadata": {},
   "outputs": [],
   "source": [
    "# Getting the rl_squared training procedure\n",
    "from evaluate import evaluate\n",
    "from meta_rl2 import rl_squared"
   ]
  },
  {
   "cell_type": "code",
   "execution_count": 23,
   "metadata": {},
   "outputs": [],
   "source": [
    "# Reading in the prices from the combined_csv file\n",
    "df = pd.read_csv('combined_csv.csv')\n",
    "prices = df[[\"Spot Price ($/MWh)\"]]      \n",
    "prices = np.array(prices)"
   ]
  },
  {
   "cell_type": "code",
   "execution_count": 24,
   "metadata": {},
   "outputs": [],
   "source": [
    "# Create the second order envs\n",
    "#house dynamics = second order, objective = Only maintain a fixed temperature \n",
    "tcl1 = second_temp_model(pHouse=0)    # Calling the function firstorder model arg1,2- seconds to heat and seconds to cool, arg3-Goal, flex and noise\n",
    "env1 = second_temp_env(tcl1,prices) \n",
    "env1 = DummyVecEnv([lambda: env1]) # Converting to dummy env for PPO2\n",
    "\n",
    "#house dynamics = second order, objective = Tradeoff price with comf\n",
    "tcl2 = second_price_model(pHouse =1)\n",
    "env2 = second_price_env(tcl2,prices)\n",
    "env2 =DummyVecEnv([lambda: env2])\n",
    "second_env = [env1,env2] # both the 2nd order env's"
   ]
  },
  {
   "cell_type": "code",
   "execution_count": 25,
   "metadata": {},
   "outputs": [],
   "source": [
    "# Randomly developing first order envs, 3 for temp only and 3 for price+temp\n",
    "\n",
    "temp_env = []\n",
    "price_env = []\n",
    "time_heat_all = []\n",
    "time_cool_all = []\n",
    "\n",
    "for i in range(3):\n",
    "    \n",
    "    time_heat = round(np.random.uniform(low=8,high=26))\n",
    "            \n",
    "    time_cool = time_heat*2 + round(np.random.uniform(low=-4,high=8))\n",
    "            \n",
    "    tcl = first_temp_model(time_heat*60,time_cool*60,21,1.5)\n",
    "    env = first_temp_env(tcl,prices)\n",
    "    env =DummyVecEnv([lambda: env])\n",
    "    time_heat_all.append(time_heat)\n",
    "    time_cool_all.append(time_cool)\n",
    "    temp_env.append(env)\n",
    "\n",
    "for i in range(3):\n",
    "    time_heat = round(np.random.uniform(low=8,high=26))\n",
    "            \n",
    "    time_cool = time_heat*2 + round(np.random.uniform(low=-4,high=8))\n",
    "            \n",
    "    tcl = first_price_model(time_heat*60,time_cool*60,21,1.5)\n",
    "    env = first_price_env(tcl,prices)\n",
    "    env =DummyVecEnv([lambda: env])\n",
    "    time_heat_all.append(time_heat)\n",
    "    time_cool_all.append(time_cool)\n",
    "    \n",
    "    price_env.append(env)\n",
    "    \n",
    "first_env = temp_env+price_env # 6 of the first order env's"
   ]
  },
  {
   "cell_type": "code",
   "execution_count": 26,
   "metadata": {},
   "outputs": [
    {
     "data": {
      "text/plain": [
       "[13, 21, 13, 24, 22, 19]"
      ]
     },
     "execution_count": 26,
     "metadata": {},
     "output_type": "execute_result"
    }
   ],
   "source": [
    "time_heat_all"
   ]
  },
  {
   "cell_type": "code",
   "execution_count": 27,
   "metadata": {},
   "outputs": [
    {
     "data": {
      "text/plain": [
       "[<stable_baselines.common.vec_env.dummy_vec_env.DummyVecEnv at 0x7fa5db9a1fd0>,\n",
       " <stable_baselines.common.vec_env.dummy_vec_env.DummyVecEnv at 0x7fa5db911160>,\n",
       " <stable_baselines.common.vec_env.dummy_vec_env.DummyVecEnv at 0x7fa5db8ef978>,\n",
       " <stable_baselines.common.vec_env.dummy_vec_env.DummyVecEnv at 0x7fa5db8efb00>,\n",
       " <stable_baselines.common.vec_env.dummy_vec_env.DummyVecEnv at 0x7fa5db8efc88>,\n",
       " <stable_baselines.common.vec_env.dummy_vec_env.DummyVecEnv at 0x7fa5db8efe10>,\n",
       " <stable_baselines.common.vec_env.dummy_vec_env.DummyVecEnv at 0x7fa5db8eff98>,\n",
       " <stable_baselines.common.vec_env.dummy_vec_env.DummyVecEnv at 0x7fa5db8e2160>]"
      ]
     },
     "execution_count": 27,
     "metadata": {},
     "output_type": "execute_result"
    }
   ],
   "source": [
    "# Joining all houses to 1 array, first 2 are second order and the rest are 1st order\n",
    "env = second_env + first_env\n",
    "env"
   ]
  },
  {
   "cell_type": "code",
   "execution_count": 28,
   "metadata": {
    "scrolled": true
   },
   "outputs": [
    {
     "name": "stdout",
     "output_type": "stream",
     "text": [
      "WARNING:tensorflow:From /usr/local/lib/python3.6/site-packages/stable_baselines/common/misc_util.py:26: The name tf.set_random_seed is deprecated. Please use tf.compat.v1.set_random_seed instead.\n",
      "\n",
      "WARNING:tensorflow:From /usr/local/lib/python3.6/site-packages/stable_baselines/common/tf_util.py:191: The name tf.ConfigProto is deprecated. Please use tf.compat.v1.ConfigProto instead.\n",
      "\n",
      "WARNING:tensorflow:From /usr/local/lib/python3.6/site-packages/stable_baselines/common/tf_util.py:200: The name tf.Session is deprecated. Please use tf.compat.v1.Session instead.\n",
      "\n",
      "WARNING:tensorflow:From /usr/local/lib/python3.6/site-packages/stable_baselines/common/policies.py:116: The name tf.variable_scope is deprecated. Please use tf.compat.v1.variable_scope instead.\n",
      "\n",
      "WARNING:tensorflow:From /usr/local/lib/python3.6/site-packages/stable_baselines/common/input.py:25: The name tf.placeholder is deprecated. Please use tf.compat.v1.placeholder instead.\n",
      "\n",
      "WARNING:tensorflow:From /usr/local/lib/python3.6/site-packages/stable_baselines/common/policies.py:420: flatten (from tensorflow.python.layers.core) is deprecated and will be removed in a future version.\n",
      "Instructions for updating:\n",
      "Use keras.layers.flatten instead.\n",
      "WARNING:tensorflow:From /usr/local/lib/python3.6/site-packages/tensorflow_core/python/layers/core.py:332: Layer.apply (from tensorflow.python.keras.engine.base_layer) is deprecated and will be removed in a future version.\n",
      "Instructions for updating:\n",
      "Please use `layer.__call__` method instead.\n",
      "WARNING:tensorflow:From /usr/local/lib/python3.6/site-packages/stable_baselines/common/tf_layers.py:123: The name tf.get_variable is deprecated. Please use tf.compat.v1.get_variable instead.\n",
      "\n",
      "WARNING:tensorflow:From /usr/local/lib/python3.6/site-packages/stable_baselines/common/distributions.py:326: The name tf.random_uniform is deprecated. Please use tf.random.uniform instead.\n",
      "\n",
      "WARNING:tensorflow:From /usr/local/lib/python3.6/site-packages/stable_baselines/common/distributions.py:327: The name tf.log is deprecated. Please use tf.math.log instead.\n",
      "\n",
      "WARNING:tensorflow:From /usr/local/lib/python3.6/site-packages/stable_baselines/ppo2/ppo2.py:190: The name tf.summary.scalar is deprecated. Please use tf.compat.v1.summary.scalar instead.\n",
      "\n",
      "WARNING:tensorflow:From /usr/local/lib/python3.6/site-packages/stable_baselines/ppo2/ppo2.py:198: The name tf.trainable_variables is deprecated. Please use tf.compat.v1.trainable_variables instead.\n",
      "\n",
      "WARNING:tensorflow:From /usr/local/lib/python3.6/site-packages/tensorflow_core/python/ops/math_grad.py:1424: where (from tensorflow.python.ops.array_ops) is deprecated and will be removed in a future version.\n",
      "Instructions for updating:\n",
      "Use tf.where in 2.0, which has the same broadcast rule as np.where\n",
      "WARNING:tensorflow:From /usr/local/lib/python3.6/site-packages/stable_baselines/ppo2/ppo2.py:206: The name tf.train.AdamOptimizer is deprecated. Please use tf.compat.v1.train.AdamOptimizer instead.\n",
      "\n",
      "WARNING:tensorflow:From /usr/local/lib/python3.6/site-packages/stable_baselines/ppo2/ppo2.py:240: The name tf.global_variables_initializer is deprecated. Please use tf.compat.v1.global_variables_initializer instead.\n",
      "\n",
      "WARNING:tensorflow:From /usr/local/lib/python3.6/site-packages/stable_baselines/ppo2/ppo2.py:242: The name tf.summary.merge_all is deprecated. Please use tf.compat.v1.summary.merge_all instead.\n",
      "\n",
      "Episode: 0\n",
      "Episode: 1\n",
      "Episode: 2\n",
      "Episode: 3\n",
      "Episode: 4\n",
      "Episode: 5\n",
      "Episode: 6\n",
      "Episode: 7\n",
      "Episode: 8\n",
      "Episode: 9\n",
      "Episode: 10\n",
      "Episode: 11\n",
      "Episode: 12\n",
      "Episode: 13\n",
      "Episode: 14\n",
      "Episode: 15\n",
      "Episode: 16\n",
      "Episode: 17\n",
      "Episode: 18\n",
      "Episode: 19\n",
      "Episode: 20\n",
      "Episode: 21\n",
      "Episode: 22\n",
      "Episode: 23\n",
      "Episode: 24\n",
      "Episode: 25\n",
      "Episode: 26\n",
      "Episode: 27\n",
      "Episode: 28\n",
      "Episode: 29\n",
      "Episode: 30\n",
      "Episode: 31\n",
      "Episode: 32\n",
      "Episode: 33\n",
      "Episode: 34\n",
      "Episode: 35\n",
      "Episode: 36\n",
      "Episode: 37\n",
      "Episode: 38\n",
      "Episode: 39\n",
      "Episode: 40\n",
      "Episode: 41\n",
      "Episode: 42\n",
      "Episode: 43\n",
      "Episode: 44\n",
      "Episode: 45\n",
      "Episode: 46\n",
      "Episode: 47\n",
      "Episode: 48\n",
      "Episode: 49\n",
      "Episode: 50\n",
      "Episode: 51\n",
      "Episode: 52\n",
      "Episode: 53\n",
      "Episode: 54\n",
      "Episode: 55\n",
      "Episode: 56\n",
      "Episode: 57\n",
      "Episode: 58\n",
      "Episode: 59\n",
      "Episode: 60\n",
      "Episode: 61\n",
      "Episode: 62\n",
      "Episode: 63\n",
      "Episode: 64\n",
      "Episode: 65\n",
      "Episode: 66\n",
      "Episode: 67\n",
      "Episode: 68\n",
      "Episode: 69\n",
      "Episode: 70\n",
      "Episode: 71\n",
      "Episode: 72\n",
      "Episode: 73\n",
      "Episode: 74\n",
      "Episode: 75\n",
      "Episode: 76\n",
      "Episode: 77\n",
      "Episode: 78\n",
      "Episode: 79\n",
      "Episode: 80\n",
      "Episode: 81\n",
      "Episode: 82\n",
      "Episode: 83\n",
      "Episode: 84\n",
      "Episode: 85\n",
      "Episode: 86\n",
      "Episode: 87\n",
      "Episode: 88\n",
      "Episode: 89\n",
      "Episode: 90\n",
      "Episode: 91\n",
      "Episode: 92\n",
      "Episode: 93\n",
      "Episode: 94\n",
      "Episode: 95\n",
      "Episode: 96\n",
      "Episode: 97\n",
      "Episode: 98\n",
      "Episode: 99\n",
      "Episode: 100\n",
      "Episode: 101\n",
      "Episode: 102\n",
      "Episode: 103\n",
      "Episode: 104\n",
      "Episode: 105\n",
      "Episode: 106\n",
      "Episode: 107\n",
      "Episode: 108\n",
      "Episode: 109\n",
      "Episode: 110\n",
      "Episode: 111\n",
      "Episode: 112\n",
      "Episode: 113\n",
      "Episode: 114\n",
      "Episode: 115\n",
      "Episode: 116\n",
      "Episode: 117\n",
      "Episode: 118\n",
      "Episode: 119\n",
      "Episode: 120\n",
      "Episode: 121\n",
      "Episode: 122\n",
      "Episode: 123\n",
      "Episode: 124\n",
      "Episode: 125\n",
      "Episode: 126\n",
      "Episode: 127\n",
      "Episode: 128\n",
      "Episode: 129\n",
      "Episode: 130\n",
      "Episode: 131\n",
      "Episode: 132\n",
      "Episode: 133\n",
      "Episode: 134\n",
      "Episode: 135\n",
      "Episode: 136\n",
      "Episode: 137\n",
      "Episode: 138\n",
      "Episode: 139\n",
      "Episode: 140\n",
      "Episode: 141\n",
      "Episode: 142\n",
      "Episode: 143\n",
      "Episode: 144\n",
      "Episode: 145\n",
      "Episode: 146\n",
      "Episode: 147\n",
      "Episode: 148\n",
      "Episode: 149\n",
      "Episode: 150\n",
      "Episode: 151\n",
      "Episode: 152\n",
      "Episode: 153\n",
      "Episode: 154\n",
      "Episode: 155\n",
      "Episode: 156\n",
      "Episode: 157\n",
      "Episode: 158\n",
      "Episode: 159\n",
      "Episode: 160\n",
      "Episode: 161\n",
      "Episode: 162\n",
      "Episode: 163\n",
      "Episode: 164\n",
      "Episode: 165\n",
      "Episode: 166\n",
      "Episode: 167\n",
      "Episode: 168\n",
      "Episode: 169\n",
      "Episode: 170\n",
      "Episode: 171\n",
      "Episode: 172\n",
      "Episode: 173\n",
      "Episode: 174\n",
      "Episode: 175\n",
      "Episode: 176\n",
      "Episode: 177\n",
      "Episode: 178\n",
      "Episode: 179\n",
      "Episode: 180\n",
      "Episode: 181\n",
      "Episode: 182\n",
      "Episode: 183\n",
      "Episode: 184\n",
      "Episode: 185\n",
      "Episode: 186\n",
      "Episode: 187\n",
      "Episode: 188\n",
      "Episode: 189\n",
      "Episode: 190\n",
      "Episode: 191\n",
      "Episode: 192\n",
      "Episode: 193\n",
      "Episode: 194\n",
      "Episode: 195\n",
      "Episode: 196\n",
      "Episode: 197\n",
      "Episode: 198\n",
      "Episode: 199\n",
      "Episode: 200\n",
      "Episode: 201\n",
      "Episode: 202\n",
      "Episode: 203\n",
      "Episode: 204\n",
      "Episode: 205\n",
      "Episode: 206\n",
      "Episode: 207\n",
      "Episode: 208\n",
      "Episode: 209\n",
      "Episode: 210\n",
      "Episode: 211\n",
      "Episode: 212\n",
      "Episode: 213\n",
      "Episode: 214\n",
      "Episode: 215\n",
      "Episode: 216\n",
      "Episode: 217\n",
      "Episode: 218\n",
      "Episode: 219\n",
      "Episode: 220\n",
      "Episode: 221\n",
      "Episode: 222\n",
      "Episode: 223\n",
      "Episode: 224\n",
      "Episode: 225\n",
      "Episode: 226\n",
      "Episode: 227\n",
      "Episode: 228\n",
      "Episode: 229\n",
      "Episode: 230\n",
      "Episode: 231\n",
      "Episode: 232\n",
      "Episode: 233\n",
      "Episode: 234\n",
      "Episode: 235\n",
      "Episode: 236\n",
      "Episode: 237\n",
      "Episode: 238\n",
      "Episode: 239\n",
      "Episode: 240\n",
      "Episode: 241\n",
      "Episode: 242\n",
      "Episode: 243\n",
      "Episode: 244\n",
      "Episode: 245\n",
      "Episode: 246\n",
      "Episode: 247\n",
      "Episode: 248\n",
      "Episode: 249\n",
      "Episode: 250\n",
      "Episode: 251\n",
      "Episode: 252\n",
      "Episode: 253\n",
      "Episode: 254\n",
      "Episode: 255\n",
      "Episode: 256\n",
      "Episode: 257\n",
      "Episode: 258\n",
      "Episode: 259\n",
      "Episode: 260\n",
      "Episode: 261\n",
      "Episode: 262\n",
      "Episode: 263\n",
      "Episode: 264\n",
      "Episode: 265\n",
      "Episode: 266\n",
      "Episode: 267\n",
      "Episode: 268\n",
      "Episode: 269\n",
      "Episode: 270\n",
      "Episode: 271\n",
      "Episode: 272\n",
      "Episode: 273\n",
      "Episode: 274\n",
      "Episode: 275\n",
      "Episode: 276\n",
      "Episode: 277\n",
      "Episode: 278\n",
      "Episode: 279\n",
      "Episode: 280\n",
      "Episode: 281\n",
      "Episode: 282\n",
      "Episode: 283\n",
      "Episode: 284\n",
      "Episode: 285\n",
      "Episode: 286\n",
      "Episode: 287\n",
      "Episode: 288\n",
      "Episode: 289\n",
      "Episode: 290\n",
      "Episode: 291\n",
      "Episode: 292\n",
      "Episode: 293\n",
      "Episode: 294\n",
      "Episode: 295\n",
      "Episode: 296\n",
      "Episode: 297\n",
      "Episode: 298\n",
      "Episode: 299\n",
      "Episode: 300\n",
      "Episode: 301\n",
      "Episode: 302\n",
      "Episode: 303\n",
      "Episode: 304\n",
      "Episode: 305\n",
      "Episode: 306\n",
      "Episode: 307\n",
      "Episode: 308\n",
      "Episode: 309\n",
      "Episode: 310\n",
      "Episode: 311\n",
      "Episode: 312\n",
      "Episode: 313\n",
      "Episode: 314\n",
      "Episode: 315\n",
      "Episode: 316\n",
      "Episode: 317\n",
      "Episode: 318\n",
      "Episode: 319\n",
      "Episode: 320\n",
      "Episode: 321\n",
      "Episode: 322\n",
      "Episode: 323\n",
      "Episode: 324\n",
      "Episode: 325\n",
      "Episode: 326\n",
      "Episode: 327\n",
      "Episode: 328\n",
      "Episode: 329\n",
      "Episode: 330\n",
      "Episode: 331\n",
      "Episode: 332\n",
      "Episode: 333\n",
      "Episode: 334\n",
      "Episode: 335\n",
      "Episode: 336\n",
      "Episode: 337\n",
      "Episode: 338\n",
      "Episode: 339\n",
      "Episode: 340\n",
      "Episode: 341\n",
      "Episode: 342\n",
      "Episode: 343\n",
      "Episode: 344\n",
      "Episode: 345\n",
      "Episode: 346\n",
      "Episode: 347\n",
      "Episode: 348\n",
      "Episode: 349\n",
      "Episode: 350\n",
      "Episode: 351\n",
      "Episode: 352\n",
      "Episode: 353\n",
      "Episode: 354\n",
      "Episode: 355\n",
      "Episode: 356\n",
      "Episode: 357\n",
      "Episode: 358\n",
      "Episode: 359\n",
      "Episode: 360\n",
      "Episode: 361\n",
      "Episode: 362\n",
      "Episode: 363\n",
      "Episode: 364\n",
      "Episode: 365\n",
      "Episode: 366\n",
      "Episode: 367\n",
      "Episode: 368\n",
      "Episode: 369\n",
      "Episode: 370\n",
      "Episode: 371\n",
      "Episode: 372\n",
      "Episode: 373\n",
      "Episode: 374\n",
      "Episode: 375\n",
      "Episode: 376\n",
      "Episode: 377\n",
      "Episode: 378\n",
      "Episode: 379\n",
      "Episode: 380\n",
      "Episode: 381\n",
      "Episode: 382\n",
      "Episode: 383\n",
      "Episode: 384\n",
      "Episode: 385\n",
      "Episode: 386\n",
      "Episode: 387\n",
      "Episode: 388\n",
      "Episode: 389\n",
      "Episode: 390\n",
      "Episode: 391\n",
      "Episode: 392\n",
      "Episode: 393\n",
      "Episode: 394\n",
      "Episode: 395\n",
      "Episode: 396\n",
      "Episode: 397\n",
      "Episode: 398\n",
      "Episode: 399\n",
      "Episode: 400\n",
      "Episode: 401\n",
      "Episode: 402\n",
      "Episode: 403\n",
      "Episode: 404\n",
      "Episode: 405\n",
      "Episode: 406\n",
      "Episode: 407\n",
      "Episode: 408\n",
      "Episode: 409\n",
      "Episode: 410\n",
      "Episode: 411\n",
      "Episode: 412\n",
      "Episode: 413\n",
      "Episode: 414\n",
      "Episode: 415\n",
      "Episode: 416\n",
      "Episode: 417\n",
      "Episode: 418\n",
      "Episode: 419\n",
      "Episode: 420\n",
      "Episode: 421\n",
      "Episode: 422\n",
      "Episode: 423\n",
      "Episode: 424\n",
      "Episode: 425\n",
      "Episode: 426\n",
      "Episode: 427\n",
      "Episode: 428\n",
      "Episode: 429\n",
      "Episode: 430\n",
      "Episode: 431\n",
      "Episode: 432\n",
      "Episode: 433\n",
      "Episode: 434\n",
      "Episode: 435\n",
      "Episode: 436\n",
      "Episode: 437\n",
      "Episode: 438\n",
      "Episode: 439\n",
      "Episode: 440\n",
      "Episode: 441\n",
      "Episode: 442\n",
      "Episode: 443\n",
      "Episode: 444\n",
      "Episode: 445\n",
      "Episode: 446\n",
      "Episode: 447\n",
      "Episode: 448\n",
      "Episode: 449\n",
      "Episode: 450\n",
      "Episode: 451\n",
      "Episode: 452\n",
      "Episode: 453\n",
      "Episode: 454\n",
      "Episode: 455\n",
      "Episode: 456\n",
      "Episode: 457\n",
      "Episode: 458\n",
      "Episode: 459\n",
      "Episode: 460\n",
      "Episode: 461\n",
      "Episode: 462\n",
      "Episode: 463\n",
      "Episode: 464\n",
      "Episode: 465\n",
      "Episode: 466\n",
      "Episode: 467\n",
      "Episode: 468\n",
      "Episode: 469\n",
      "Episode: 470\n",
      "Episode: 471\n",
      "Episode: 472\n",
      "Episode: 473\n",
      "Episode: 474\n",
      "Episode: 475\n",
      "Episode: 476\n",
      "Episode: 477\n",
      "Episode: 478\n",
      "Episode: 479\n",
      "Episode: 480\n",
      "Episode: 481\n",
      "Episode: 482\n",
      "Episode: 483\n",
      "Episode: 484\n",
      "Episode: 485\n",
      "Episode: 486\n",
      "Episode: 487\n",
      "Episode: 488\n",
      "Episode: 489\n",
      "Episode: 490\n",
      "Episode: 491\n",
      "Episode: 492\n",
      "Episode: 493\n",
      "Episode: 494\n",
      "Episode: 495\n",
      "Episode: 496\n",
      "Episode: 497\n",
      "Episode: 498\n",
      "Episode: 499\n"
     ]
    }
   ],
   "source": [
    "reward_2,dynamics,model_2 = rl_squared(500,env)"
   ]
  },
  {
   "cell_type": "code",
   "execution_count": 29,
   "metadata": {},
   "outputs": [
    {
     "data": {
      "text/plain": [
       "[<matplotlib.lines.Line2D at 0x7fa53c1d15f8>]"
      ]
     },
     "execution_count": 29,
     "metadata": {},
     "output_type": "execute_result"
    },
    {
     "data": {
      "image/png": "[encoded data removed]",
      "text/plain": [
       "<Figure size 432x288 with 1 Axes>"
      ]
     },
     "metadata": {
      "needs_background": "light"
     },
     "output_type": "display_data"
    }
   ],
   "source": [
    "%matplotlib inline\n",
    "import matplotlib.pyplot as plt\n",
    "\n",
    "l = []\n",
    "l.extend(range(0, 500))\n",
    "plt.plot(l,reward_2)"
   ]
  },
  {
   "cell_type": "code",
   "execution_count": 45,
   "metadata": {},
   "outputs": [
    {
     "data": {
      "text/plain": [
       "Text(0, 0.5, 'Reward')"
      ]
     },
     "execution_count": 45,
     "metadata": {},
     "output_type": "execute_result"
    },
    {
     "data": {
      "image/png": "[encoded data removed]",
      "text/plain": [
       "<Figure size 432x288 with 1 Axes>"
      ]
     },
     "metadata": {
      "needs_background": "light"
     },
     "output_type": "display_data"
    }
   ],
   "source": [
    "# Calculating a moving avg of the rewards\n",
    "mylist = reward_2\n",
    "N = 200\n",
    "cumsum, moving_aves = [0], []\n",
    "\n",
    "\n",
    "for i, x in enumerate(mylist, 1):\n",
    "    cumsum.append(cumsum[i-1] + x)\n",
    "    if i>=N:\n",
    "        moving_ave = (cumsum[i] - cumsum[i-N])/N\n",
    "        #can do stuff with moving_ave here\n",
    "        moving_aves.append(moving_ave)\n",
    "\n",
    "l = []\n",
    "l.extend(range(0, len(moving_aves)))\n",
    "plt.plot(l,moving_aves)\n",
    "plt.xlabel('Episode')\n",
    "plt.ylabel('Reward')"
   ]
  },
  {
   "cell_type": "code",
   "execution_count": 46,
   "metadata": {},
   "outputs": [],
   "source": [
    "moving_aves = np.array(moving_aves)\n",
    "np.savetxt(\"rl2_task1_task2.csv\", moving_aves, delimiter=\",\")"
   ]
  },
  {
   "cell_type": "code",
   "execution_count": null,
   "metadata": {},
   "outputs": [],
   "source": []
  },
  {
   "cell_type": "code",
   "execution_count": 88,
   "metadata": {},
   "outputs": [
    {
     "data": {
      "text/plain": [
       "Text(0, 0.5, 'Action')"
      ]
     },
     "execution_count": 88,
     "metadata": {},
     "output_type": "execute_result"
    },
    {
     "data": {
      "image/png": "[encoded data removed]",
      "text/plain": [
       "<Figure size 990x450 with 5 Axes>"
      ]
     },
     "metadata": {
      "needs_background": "light"
     },
     "output_type": "display_data"
    }
   ],
   "source": [
    "# Visualising the policy on 1 episode\n",
    "seconds3 = []\n",
    "price3 = []\n",
    "reward3 = []\n",
    "temp3 = []\n",
    "setpoint3 = []\n",
    "times = []\n",
    "comf = []\n",
    "obs = env[0].reset()\n",
    "cost = []\n",
    "dones = False\n",
    "#while not dones:\n",
    "for i in range(288):\n",
    "    \n",
    "    action, _states = model_specific.predict(obs)\n",
    "    obs, rewards, dones, info = env[1].step(action)\n",
    "    \n",
    "    seconds3.append(info[0]['SecondsON'])\n",
    "    setpoint3.append((info[0]['Action']/2) + 10)\n",
    "    reward3.append(rewards)\n",
    "    times.append(i)\n",
    "    temp3.append(obs[0][0])\n",
    "    comf.append(info[0]['Comfort'])\n",
    "    cost.append(info[0]['Cost'])\n",
    "    price3.append(info[0]['Price'])\n",
    "   # print(obs[0],rewards,info)\n",
    "\n",
    "   # env.render(mode='human')\n",
    "### Plot the resulting temperature trajectory.\n",
    "f, (ax1, ax2, ax3,ax4,ax5) = plt.subplots(5, 1, sharex=True, figsize=(11,5), dpi=90)\n",
    "plt.subplots_adjust(hspace=0.075) # Reduce space between plots\n",
    "#ax1.axvspan(60, 66, facecolor='0.95') # Shade the demand-response times with grey background\n",
    "#ax1.axvspan(200, 206, facecolor='0.95')\n",
    "\n",
    "#ax2.axvspan(60, 66, facecolor='0.85') # Shade the demand-response times with grey background\n",
    "#ax2.axvspan(200, 206, facecolor='0.85')\n",
    "\n",
    "ax1.axhline(y=21, linestyle=':', color='red') # Plot the goal temperature\n",
    "ax1.plot(times[:280], temp3[:280]) # Plot the observed temperatures\n",
    "ax1.set_ylabel('Temperature')\n",
    "ax1.set_ylim(15,27)\n",
    "ax2.plot(times[:280], price3[:280]) # Plot the activations on a separate axis.\n",
    "ax2.set_xlabel('Timestep')\n",
    "ax2.set_ylabel('Price');\n",
    "ax3.bar(times[:280],seconds3[:280])\n",
    "ax3.set_ylabel('Power');\n",
    "\n",
    "ax4.plot(times[:280],reward3[:280])\n",
    "ax4.set_ylabel('Reward')\n",
    "\n",
    "ax5.plot(times[:280],setpoint3[:280])\n",
    "ax5.set_ylabel('Action')  \n",
    "    \n",
    "    "
   ]
  },
  {
   "cell_type": "code",
   "execution_count": 44,
   "metadata": {},
   "outputs": [],
   "source": [
    "# Testing on one of the price tasks from the training task dist itself\n",
    "env_test = env[0]\n"
   ]
  },
  {
   "cell_type": "code",
   "execution_count": null,
   "metadata": {},
   "outputs": [],
   "source": [
    "plt.rcParams['figure.figsize'] = [6, 2]\n",
    "plt.rcParams['figure.dpi'] = 150\n"
   ]
  },
  {
   "cell_type": "code",
   "execution_count": 66,
   "metadata": {},
   "outputs": [],
   "source": [
    "# Using house 3 (2nd order-temp only) for testing \n",
    "tcl3 = second_price_model(pHouse =2)\n",
    "env3 = second_price_env(tcl3,prices)\n",
    "env3 =DummyVecEnv([lambda: env3])\n",
    "\n",
    "# # Using house 3 (2nd order-with price) for testing \n",
    "tcl4 = second_temp_model(pHouse =2)\n",
    "env4 = second_temp_env(tcl4,prices)\n",
    "env4 =DummyVecEnv([lambda: env4])"
   ]
  },
  {
   "cell_type": "code",
   "execution_count": 67,
   "metadata": {},
   "outputs": [
    {
     "name": "stdout",
     "output_type": "stream",
     "text": [
      "mean_reward:260.15 +/- 11.50\n"
     ]
    }
   ],
   "source": [
    "mean_reward, std_reward,mean_cost,std_cost,mean_comfort,stdcomfort=evaluate(model_2, env3, n_eval_episodes=50,baseline = False)\n",
    "print(f\"mean_reward:{mean_reward:.2f} +/- {std_reward:.2f}\")"
   ]
  },
  {
   "cell_type": "code",
   "execution_count": 68,
   "metadata": {},
   "outputs": [
    {
     "name": "stdout",
     "output_type": "stream",
     "text": [
      "mean_reward:267.57 +/- 1.76\n"
     ]
    }
   ],
   "source": [
    "mean_reward, std_reward,mean_cost,std_cost,mean_comfort,stdcomfort=evaluate(model_2, env4, n_eval_episodes=50,baseline = False)\n",
    "print(f\"mean_reward:{mean_reward:.2f} +/- {std_reward:.2f}\")"
   ]
  },
  {
   "cell_type": "code",
   "execution_count": 76,
   "metadata": {},
   "outputs": [],
   "source": [
    "# Set up 2 first orders\n",
    "while time_heat in time_heat_all:\n",
    "    time_heat = round(np.random.uniform(low=8,high=26))\n",
    "            \n",
    "time_cool = time_heat*2 + round(np.random.uniform(low=-4,high=8))\n",
    "            \n",
    "tcl5 = first_price_model(time_heat*60,time_cool*60,21,1.5)\n",
    "env5 = first_price_env(tcl5,prices)\n",
    "env5 =DummyVecEnv([lambda: env5])\n",
    "\n",
    "# First order temp only\n",
    "while time_heat in time_heat_all:\n",
    "    time_heat = round(np.random.uniform(low=8,high=26))\n",
    "            \n",
    "time_cool = time_heat*2 + round(np.random.uniform(low=-4,high=8))\n",
    "            \n",
    "tcl6 = first_temp_model(time_heat*60,time_cool*60,21,1.5)\n",
    "env6 = first_temp_env(tcl6,prices)\n",
    "env6 =DummyVecEnv([lambda: env6])\n"
   ]
  },
  {
   "cell_type": "code",
   "execution_count": 77,
   "metadata": {},
   "outputs": [
    {
     "name": "stdout",
     "output_type": "stream",
     "text": [
      "mean_reward:267.79 +/- 8.57\n"
     ]
    }
   ],
   "source": [
    "mean_reward, std_reward,mean_cost,std_cost,mean_comfort,stdcomfort=evaluate(model_2, env5, n_eval_episodes=50,baseline = False)\n",
    "print(f\"mean_reward:{mean_reward:.2f} +/- {std_reward:.2f}\")"
   ]
  },
  {
   "cell_type": "code",
   "execution_count": 78,
   "metadata": {},
   "outputs": [
    {
     "name": "stdout",
     "output_type": "stream",
     "text": [
      "mean_reward:273.58 +/- 0.76\n"
     ]
    }
   ],
   "source": [
    "mean_reward, std_reward,mean_cost,std_cost,mean_comfort,stdcomfort=evaluate(model_2, env6, n_eval_episodes=50,baseline = False)\n",
    "print(f\"mean_reward:{mean_reward:.2f} +/- {std_reward:.2f}\")"
   ]
  },
  {
   "cell_type": "code",
   "execution_count": 93,
   "metadata": {
    "scrolled": true
   },
   "outputs": [
    {
     "name": "stdout",
     "output_type": "stream",
     "text": [
      "mean_reward:257.99 +/- 11.54\n"
     ]
    }
   ],
   "source": [
    "# Calculating for task specific policy-Price(2nd)\n",
    "model_specific = ACKTR(\"MlpPolicy\", env3, gamma=0.95, verbose=0,seed = 9099,tensorboard_log=\"/floyd/home/sec_order\") \n",
    "model_specific.learn(total_timesteps=90000)\n",
    "mean_reward, std_reward,mean_cost,std_cost,mean_comfort,stdcomfort=evaluate(model_specific, env3, n_eval_episodes=50,baseline = True)\n",
    "print(f\"mean_reward:{mean_reward:.2f} +/- {std_reward:.2f}\")"
   ]
  },
  {
   "cell_type": "code",
   "execution_count": 95,
   "metadata": {},
   "outputs": [
    {
     "name": "stdout",
     "output_type": "stream",
     "text": [
      "mean_reward:270.39 +/- 2.30\n"
     ]
    }
   ],
   "source": [
    "# Calculating for task specific policy-Temp(2nd)\n",
    "model_specific = ACKTR(\"MlpPolicy\", env4, gamma=0.95, verbose=0,seed = 9099) \n",
    "model_specific.learn(total_timesteps=90000)\n",
    "mean_reward, std_reward,mean_cost,std_cost,mean_comfort,stdcomfort=evaluate(model_specific, env4, n_eval_episodes=50,baseline = True)\n",
    "print(f\"mean_reward:{mean_reward:.2f} +/- {std_reward:.2f}\")"
   ]
  },
  {
   "cell_type": "code",
   "execution_count": 96,
   "metadata": {},
   "outputs": [
    {
     "name": "stdout",
     "output_type": "stream",
     "text": [
      "mean_reward:267.37 +/- 8.93\n"
     ]
    }
   ],
   "source": [
    "# Calculating for task specific policy-1st(price)\n",
    "model_specific = ACKTR(\"MlpPolicy\", env5, gamma=0.95, verbose=0,seed = 9099) \n",
    "model_specific.learn(total_timesteps=90000) \n",
    "mean_reward, std_reward,mean_cost,std_cost,mean_comfort,stdcomfort=evaluate(model_specific, env5, n_eval_episodes=50,baseline = True)\n",
    "print(f\"mean_reward:{mean_reward:.2f} +/- {std_reward:.2f}\")"
   ]
  },
  {
   "cell_type": "code",
   "execution_count": 97,
   "metadata": {},
   "outputs": [
    {
     "name": "stdout",
     "output_type": "stream",
     "text": [
      "mean_reward:273.73 +/- 0.89\n"
     ]
    }
   ],
   "source": [
    "# Calculating for task specific policy -temp(1st)\n",
    "model_specific = ACKTR(\"MlpPolicy\", env6, gamma=0.95, verbose=0,seed = 9099) \n",
    "model_specific.learn(total_timesteps=90000)\n",
    "mean_reward, std_reward,mean_cost,std_cost,mean_comfort,stdcomfort=evaluate(model_specific, env6, n_eval_episodes=50,baseline = True)\n",
    "print(f\"mean_reward:{mean_reward:.2f} +/- {std_reward:.2f}\")"
   ]
  },
  {
   "cell_type": "code",
   "execution_count": 44,
   "metadata": {},
   "outputs": [],
   "source": [
    "env = env3\n",
    "env = DummyVecEnv([lambda: env])"
   ]
  },
  {
   "cell_type": "code",
   "execution_count": 68,
   "metadata": {},
   "outputs": [],
   "source": [
    "seconds3 = []\n",
    "price3 = []\n",
    "reward3 = []\n",
    "temp3 = []\n",
    "setpoint3 = []\n",
    "times = []\n",
    "comf = []\n",
    "obs = env.reset()\n",
    "cost = []\n",
    "dones = False\n",
    "#while not dones:\n",
    "for i in range(300):\n",
    "    \n",
    "    action, _states = specific_m.predict(obs)\n",
    "    obs, rewards, dones, info = env.step(action)\n",
    "    \n",
    "    seconds3.append(info[0]['SecondsON'])\n",
    "    setpoint3.append((info[0]['Action']/2) + 10)\n",
    "    reward3.append(rewards)\n",
    "    times.append(i)\n",
    "    temp3.append(obs[0][0])\n",
    "    comf.append(info[0]['Comfort'])\n",
    "    cost.append(info[0]['Cost'])\n",
    "    price3.append(info[0]['Price'])\n",
    "   # print(obs[0],rewards,info)\n",
    "\n",
    "   # env.render(mode='human')"
   ]
  },
  {
   "cell_type": "code",
   "execution_count": 69,
   "metadata": {},
   "outputs": [],
   "source": [
    "%matplotlib inline\n",
    "import matplotlib.pyplot as plt"
   ]
  },
  {
   "cell_type": "code",
   "execution_count": 55,
   "metadata": {},
   "outputs": [
    {
     "data": {
      "text/plain": [
       "Text(0, 0.5, 'Action')"
      ]
     },
     "execution_count": 55,
     "metadata": {},
     "output_type": "execute_result"
    },
    {
     "data": {
      "image/png": "[encoded data removed]",
      "text/plain": [
       "<Figure size 990x450 with 5 Axes>"
      ]
     },
     "metadata": {
      "needs_background": "light"
     },
     "output_type": "display_data"
    }
   ],
   "source": [
    "### Plot the resulting temperature trajectory.\n",
    "f, (ax1, ax2, ax3,ax4,ax5) = plt.subplots(5, 1, sharex=True, figsize=(11,5), dpi=90)\n",
    "plt.subplots_adjust(hspace=0.075) # Reduce space between plots\n",
    "#ax1.axvspan(60, 66, facecolor='0.95') # Shade the demand-response times with grey background\n",
    "#ax1.axvspan(200, 206, facecolor='0.95')\n",
    "\n",
    "#ax2.axvspan(60, 66, facecolor='0.85') # Shade the demand-response times with grey background\n",
    "#ax2.axvspan(200, 206, facecolor='0.85')\n",
    "\n",
    "ax1.axhline(y=21, linestyle=':', color='red') # Plot the goal temperature\n",
    "ax1.plot(times[:280], temp3[:280]) # Plot the observed temperatures\n",
    "ax1.set_ylabel('Temperature')\n",
    "ax1.set_ylim(15,27)\n",
    "ax2.plot(times[:280], price3[:280]) # Plot the activations on a separate axis.\n",
    "ax2.set_xlabel('Timestep')\n",
    "ax2.set_ylabel('Price');\n",
    "ax3.bar(times[:280],seconds3[:280])\n",
    "ax3.set_ylabel('Power');\n",
    "\n",
    "ax4.plot(times[:280],reward3[:280])\n",
    "ax4.set_ylabel('Reward')\n",
    "\n",
    "ax5.bar(times[:280],setpoint3[:280])\n",
    "ax5.set_ylabel('Action')"
   ]
  },
  {
   "cell_type": "code",
   "execution_count": 53,
   "metadata": {},
   "outputs": [
    {
     "data": {
      "text/plain": [
       "19.0"
      ]
     },
     "execution_count": 53,
     "metadata": {},
     "output_type": "execute_result"
    }
   ],
   "source": [
    "np.mean(action)"
   ]
  },
  {
   "cell_type": "code",
   "execution_count": 15,
   "metadata": {},
   "outputs": [
    {
     "data": {
      "text/plain": [
       "0.94458926"
      ]
     },
     "execution_count": 15,
     "metadata": {},
     "output_type": "execute_result"
    }
   ],
   "source": [
    "#Temp only\n",
    "np.mean(reward3)\n"
   ]
  },
  {
   "cell_type": "code",
   "execution_count": 42,
   "metadata": {},
   "outputs": [
    {
     "data": {
      "text/plain": [
       "0.94497305"
      ]
     },
     "execution_count": 42,
     "metadata": {},
     "output_type": "execute_result"
    }
   ],
   "source": [
    "#Also price\n",
    "np.mean(reward3)"
   ]
  },
  {
   "cell_type": "code",
   "execution_count": 43,
   "metadata": {},
   "outputs": [
    {
     "data": {
      "text/plain": [
       "0.008161307373148149"
      ]
     },
     "execution_count": 43,
     "metadata": {},
     "output_type": "execute_result"
    }
   ],
   "source": [
    "np.mean(cost)"
   ]
  },
  {
   "cell_type": "code",
   "execution_count": 28,
   "metadata": {},
   "outputs": [
    {
     "data": {
      "text/plain": [
       "(0.0, 0.41922916666666665)"
      ]
     },
     "execution_count": 28,
     "metadata": {},
     "output_type": "execute_result"
    }
   ],
   "source": [
    "min(cost),max(cost)"
   ]
  },
  {
   "cell_type": "code",
   "execution_count": null,
   "metadata": {},
   "outputs": [],
   "source": []
  }
 ],
 "metadata": {
  "kernelspec": {
   "display_name": "Python 3",
   "language": "python",
   "name": "python3"
  },
  "language_info": {
   "codemirror_mode": {
    "name": "ipython",
    "version": 3
   },
   "file_extension": ".py",
   "mimetype": "text/x-python",
   "name": "python",
   "nbconvert_exporter": "python",
   "pygments_lexer": "ipython3",
   "version": "3.6.9"
  }
 },
 "nbformat": 4,
 "nbformat_minor": 4
}
