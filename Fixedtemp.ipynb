{
 "cells": [
  {
   "cell_type": "code",
   "execution_count": 1,
   "metadata": {},
   "outputs": [
    {
     "name": "stdout",
     "output_type": "stream",
     "text": [
      "WARNING:tensorflow:\n",
      "The TensorFlow contrib module will not be included in TensorFlow 2.0.\n",
      "For more information, please see:\n",
      "  * https://github.com/tensorflow/community/blob/master/rfcs/20180907-contrib-sunset.md\n",
      "  * https://github.com/tensorflow/addons\n",
      "  * https://github.com/tensorflow/io (for I/O related ops)\n",
      "If you depend on functionality not listed there, please file an issue.\n",
      "\n"
     ]
    }
   ],
   "source": [
    "from thermalmodels_fixedtemp import FirstOrderModel\n",
    "from DR_thermalenvironments import DirectControlEnv, SetpointDeltaEnv, DirectSetpointEnv\n",
    " \n",
    "from stable_baselines.deepq.policies import MlpPolicy\n",
    "from stable_baselines import DQN, A2C,PPO2,ACER,TRPO"
   ]
  },
  {
   "cell_type": "code",
   "execution_count": 2,
   "metadata": {},
   "outputs": [],
   "source": [
    "from itertools import cycle\n",
    "import pandas as pd\n",
    "import numpy as np"
   ]
  },
  {
   "cell_type": "code",
   "execution_count": 3,
   "metadata": {},
   "outputs": [],
   "source": [
    "df = pd.read_csv('combined_csv.csv')"
   ]
  },
  {
   "cell_type": "code",
   "execution_count": 4,
   "metadata": {},
   "outputs": [],
   "source": [
    "prices = df[[\"Spot Price ($/MWh)\"]]      \n",
    "prices = np.array(prices)\n"
   ]
  },
  {
   "cell_type": "code",
   "execution_count": 5,
   "metadata": {},
   "outputs": [
    {
     "data": {
      "text/plain": [
       "-41.38"
      ]
     },
     "execution_count": 5,
     "metadata": {},
     "output_type": "execute_result"
    }
   ],
   "source": [
    "np.min(prices)"
   ]
  },
  {
   "cell_type": "code",
   "execution_count": 6,
   "metadata": {
    "scrolled": true
   },
   "outputs": [
    {
     "name": "stdout",
     "output_type": "stream",
     "text": [
      "Loading a model without an environment, this model cannot be trained until it has a valid environment.\n",
      "WARNING:tensorflow:From /usr/local/lib/python3.6/site-packages/stable_baselines/common/misc_util.py:26: The name tf.set_random_seed is deprecated. Please use tf.compat.v1.set_random_seed instead.\n",
      "\n",
      "WARNING:tensorflow:From /usr/local/lib/python3.6/site-packages/stable_baselines/common/tf_util.py:191: The name tf.ConfigProto is deprecated. Please use tf.compat.v1.ConfigProto instead.\n",
      "\n",
      "WARNING:tensorflow:From /usr/local/lib/python3.6/site-packages/stable_baselines/common/tf_util.py:200: The name tf.Session is deprecated. Please use tf.compat.v1.Session instead.\n",
      "\n",
      "WARNING:tensorflow:From /usr/local/lib/python3.6/site-packages/stable_baselines/common/policies.py:116: The name tf.variable_scope is deprecated. Please use tf.compat.v1.variable_scope instead.\n",
      "\n",
      "WARNING:tensorflow:From /usr/local/lib/python3.6/site-packages/stable_baselines/common/input.py:25: The name tf.placeholder is deprecated. Please use tf.compat.v1.placeholder instead.\n",
      "\n",
      "WARNING:tensorflow:From /usr/local/lib/python3.6/site-packages/stable_baselines/common/policies.py:561: flatten (from tensorflow.python.layers.core) is deprecated and will be removed in a future version.\n",
      "Instructions for updating:\n",
      "Use keras.layers.flatten instead.\n",
      "WARNING:tensorflow:From /usr/local/lib/python3.6/site-packages/tensorflow_core/python/layers/core.py:332: Layer.apply (from tensorflow.python.keras.engine.base_layer) is deprecated and will be removed in a future version.\n",
      "Instructions for updating:\n",
      "Please use `layer.__call__` method instead.\n",
      "WARNING:tensorflow:From /usr/local/lib/python3.6/site-packages/stable_baselines/common/tf_layers.py:123: The name tf.get_variable is deprecated. Please use tf.compat.v1.get_variable instead.\n",
      "\n",
      "WARNING:tensorflow:From /usr/local/lib/python3.6/site-packages/stable_baselines/common/distributions.py:326: The name tf.random_uniform is deprecated. Please use tf.random.uniform instead.\n",
      "\n",
      "WARNING:tensorflow:From /usr/local/lib/python3.6/site-packages/stable_baselines/common/distributions.py:327: The name tf.log is deprecated. Please use tf.math.log instead.\n",
      "\n",
      "WARNING:tensorflow:From /usr/local/lib/python3.6/site-packages/stable_baselines/a2c/a2c.py:160: The name tf.summary.scalar is deprecated. Please use tf.compat.v1.summary.scalar instead.\n",
      "\n",
      "WARNING:tensorflow:From /usr/local/lib/python3.6/site-packages/stable_baselines/common/tf_util.py:449: The name tf.get_collection is deprecated. Please use tf.compat.v1.get_collection instead.\n",
      "\n",
      "WARNING:tensorflow:From /usr/local/lib/python3.6/site-packages/stable_baselines/common/tf_util.py:449: The name tf.GraphKeys is deprecated. Please use tf.compat.v1.GraphKeys instead.\n",
      "\n",
      "WARNING:tensorflow:From /usr/local/lib/python3.6/site-packages/tensorflow_core/python/ops/clip_ops.py:301: where (from tensorflow.python.ops.array_ops) is deprecated and will be removed in a future version.\n",
      "Instructions for updating:\n",
      "Use tf.where in 2.0, which has the same broadcast rule as np.where\n",
      "WARNING:tensorflow:From /usr/local/lib/python3.6/site-packages/stable_baselines/a2c/a2c.py:184: The name tf.train.RMSPropOptimizer is deprecated. Please use tf.compat.v1.train.RMSPropOptimizer instead.\n",
      "\n",
      "WARNING:tensorflow:From /usr/local/lib/python3.6/site-packages/tensorflow_core/python/training/rmsprop.py:119: calling Ones.__init__ (from tensorflow.python.ops.init_ops) with dtype is deprecated and will be removed in a future version.\n",
      "Instructions for updating:\n",
      "Call initializer instance with the dtype argument instead of passing it to the constructor\n",
      "WARNING:tensorflow:From /usr/local/lib/python3.6/site-packages/stable_baselines/a2c/a2c.py:194: The name tf.global_variables_initializer is deprecated. Please use tf.compat.v1.global_variables_initializer instead.\n",
      "\n",
      "WARNING:tensorflow:From /usr/local/lib/python3.6/site-packages/stable_baselines/a2c/a2c.py:196: The name tf.summary.merge_all is deprecated. Please use tf.compat.v1.summary.merge_all instead.\n",
      "\n"
     ]
    }
   ],
   "source": [
    "policy1 = A2C.load('a2c_2')"
   ]
  },
  {
   "cell_type": "code",
   "execution_count": 7,
   "metadata": {},
   "outputs": [
    {
     "name": "stdout",
     "output_type": "stream",
     "text": [
      "Loading a model without an environment, this model cannot be trained until it has a valid environment.\n"
     ]
    }
   ],
   "source": [
    "policy2 = A2C.load('a2c_3')"
   ]
  },
  {
   "cell_type": "code",
   "execution_count": 8,
   "metadata": {},
   "outputs": [],
   "source": [
    "from stable_baselines.common.policies import FeedForwardPolicy, register_policy\n",
    "from stable_baselines.common.vec_env import DummyVecEnv\n",
    "from stable_baselines import A2C\n",
    "\n",
    "# Custom MLP policy of three layers of size 128 each\n",
    "class CustomPolicy(FeedForwardPolicy):\n",
    "    def __init__(self, *args, **kwargs):\n",
    "        super(CustomPolicy, self).__init__(*args, **kwargs,\n",
    "                                           net_arch=[dict(pi=[128, 128, 128],\n",
    "                                                          vf=[128,128,128])],\n",
    "                                           feature_extraction=\"mlp\")\n",
    "\n",
    "# Register the policy, it will check that the name is not already taken\n",
    "register_policy('CustomPolicy', CustomPolicy)"
   ]
  },
  {
   "cell_type": "code",
   "execution_count": null,
   "metadata": {
    "scrolled": true
   },
   "outputs": [
    {
     "name": "stdout",
     "output_type": "stream",
     "text": [
      "WARNING:tensorflow:From /usr/local/lib/python3.6/site-packages/tensorflow_core/python/training/moving_averages.py:433: Variable.initialized_value (from tensorflow.python.ops.variables) is deprecated and will be removed in a future version.\n",
      "Instructions for updating:\n",
      "Use Variable.read_value. Variables in 2.X are initialized automatically both in eager and graph (inside tf.defun) contexts.\n",
      "WARNING:tensorflow:From /usr/local/lib/python3.6/site-packages/stable_baselines/acer/acer_simple.py:453: The name tf.global_norm is deprecated. Please use tf.linalg.global_norm instead.\n",
      "\n",
      "WARNING:tensorflow:From /usr/local/lib/python3.6/site-packages/stable_baselines/common/base_class.py:1169: The name tf.summary.FileWriter is deprecated. Please use tf.compat.v1.summary.FileWriter instead.\n",
      "\n",
      "WARNING:tensorflow:From /usr/local/lib/python3.6/site-packages/stable_baselines/common/tf_util.py:502: The name tf.Summary is deprecated. Please use tf.compat.v1.Summary instead.\n",
      "\n"
     ]
    }
   ],
   "source": [
    "#Instantiate the firstorder model\n",
    "tcl = FirstOrderModel(10*60, 20*60, 21,2,0.3)  # Calling the function firstorder model arg1,2- seconds to heat and seconds to cool, arg3-Goal, flex and noise\n",
    "\n",
    "env = DirectSetpointEnv(tcl,prices,policy1,policy2)\n",
    "\n",
    "#model3 = DQN(\"MlpPolicy\", env, verbose=1, exploration_fraction=0.30, exploration_final_eps=0.1,target_network_update_freq=10000,prioritized_replay = True,buffer_size=100000,double_q = True,\n",
    "           #  seed = 30, tensorboard_log=\"/floyd/home\")    # \n",
    "model2 = ACER(\"MlpPolicy\", env, gamma=0.95, verbose=0,seed = 12201,tensorboard_log=\"/floyd/home/fix_temp\");\n",
    "#model = PPO2(\"MlpPolicy\", env, gamma=0.90, verbose=1);\n",
    "model2.learn(total_timesteps=70000)\n",
    "model2.save(\"default1\")"
   ]
  },
  {
   "cell_type": "code",
   "execution_count": 10,
   "metadata": {},
   "outputs": [],
   "source": [
    "from stable_baselines.common.vec_env import VecVideoRecorder, DummyVecEnv"
   ]
  },
  {
   "cell_type": "code",
   "execution_count": 13,
   "metadata": {},
   "outputs": [],
   "source": [
    "tcl = FirstOrderModel(10*60, 20*60, 21,2,0.3)  # Calling the function firstorder model arg1,2- seconds to heat and seconds to cool, arg3-Goal, flex and noise\n",
    "\n",
    "env = DirectSetpointEnv(tcl,prices,policy1,policy2)"
   ]
  },
  {
   "cell_type": "code",
   "execution_count": 37,
   "metadata": {},
   "outputs": [],
   "source": [
    "tcl = FirstOrderModel(25*60, 35*60, 21,2,0.2)  # Calling the function firstorder model arg1,2- seconds to heat and seconds to cool, arg3-Goal, flex and noise\n",
    "\n",
    "env = DirectSetpointEnv(tcl,prices,policy1,policy2)"
   ]
  },
  {
   "cell_type": "code",
   "execution_count": 38,
   "metadata": {},
   "outputs": [],
   "source": [
    "env = DummyVecEnv([lambda: env])"
   ]
  },
  {
   "cell_type": "code",
   "execution_count": 21,
   "metadata": {},
   "outputs": [],
   "source": [
    "obs = env.reset()"
   ]
  },
  {
   "cell_type": "code",
   "execution_count": 11,
   "metadata": {},
   "outputs": [
    {
     "data": {
      "text/plain": [
       "array([20.09912462,  9.        ,  3.        , 43.51      , 43.51      ,\n",
       "        1.        ])"
      ]
     },
     "execution_count": 11,
     "metadata": {},
     "output_type": "execute_result"
    }
   ],
   "source": [
    "obs"
   ]
  },
  {
   "cell_type": "code",
   "execution_count": 20,
   "metadata": {},
   "outputs": [
    {
     "name": "stdout",
     "output_type": "stream",
     "text": [
      "mean_reward:270.08 +/- 4.96\n",
      "total_costs:7.52 +/- 1.73\n",
      "total_comfort:288.00 +/- 0.00\n"
     ]
    }
   ],
   "source": [
    "# Model A2C Policy\n",
    "tcl = FirstOrderModel(22*60,33*60, 21,2,0.2) \n",
    "env = DirectSetpointEnv(tcl,prices,policy1,policy2)\n",
    "mean_reward, std_reward,sum_cost,std_cost,sum_comfort,std_comfort = evaluate(model_new, env, n_eval_episodes=50,baseline = True)\n",
    "print(f\"mean_reward:{mean_reward:.2f} +/- {std_reward:.2f}\")\n",
    "print(f\"total_costs:{sum_cost:.2f} +/- {std_cost:.2f}\")\n",
    "print(f\"total_comfort:{sum_comfort:.2f} +/- {std_comfort:.2f}\")"
   ]
  },
  {
   "cell_type": "code",
   "execution_count": 21,
   "metadata": {},
   "outputs": [
    {
     "name": "stdout",
     "output_type": "stream",
     "text": [
      "mean_reward:274.50 +/- 4.58\n",
      "total_costs:5.82 +/- 1.61\n",
      "total_comfort:287.67 +/- 0.12\n"
     ]
    }
   ],
   "source": [
    "# Model A2C Policy\n",
    "tcl = FirstOrderModel(22*60,33*60, 21,2,0.2) \n",
    "env = DirectSetpointEnv(tcl,prices,policy1,policy2)\n",
    "amean_reward, astd_reward,asum_cost,astd_cost,asum_comfort,astd_comfort = evaluate(model2, env, n_eval_episodes=50)\n",
    "print(f\"mean_reward:{amean_reward:.2f} +/- {astd_reward:.2f}\")\n",
    "print(f\"total_costs:{asum_cost:.2f} +/- {astd_cost:.2f}\")\n",
    "print(f\"total_comfort:{asum_comfort:.2f} +/- {astd_comfort:.2f}\")"
   ]
  },
  {
   "cell_type": "code",
   "execution_count": 15,
   "metadata": {},
   "outputs": [
    {
     "name": "stdout",
     "output_type": "stream",
     "text": [
      "Loading a model without an environment, this model cannot be trained until it has a valid environment.\n"
     ]
    }
   ],
   "source": [
    "model_new = A2C.load(\"trans01\",tensorboard_log=\"/floyd/home/trans_t1\",seed=100011)"
   ]
  },
  {
   "cell_type": "code",
   "execution_count": 18,
   "metadata": {},
   "outputs": [],
   "source": [
    "env = DummyVecEnv([lambda: env])\n",
    "model_new.set_env(env)"
   ]
  },
  {
   "cell_type": "code",
   "execution_count": null,
   "metadata": {},
   "outputs": [],
   "source": [
    "# Model A2C Policy\n",
    "tcl = FirstOrderModel(22*60,33*60, 21,2,0.2) \n",
    "env = DirectSetpointEnv(tcl,prices,policy1,policy2)\n",
    "amean_reward, astd_reward,asum_cost,astd_cost,asum_comfort,astd_comfort = evaluate(model_new, env, n_eval_episodes=50)\n",
    "print(f\"mean_reward:{amean_reward:.2f} +/- {astd_reward:.2f}\")\n",
    "print(f\"total_costs:{asum_cost:.2f} +/- {astd_cost:.2f}\")\n",
    "print(f\"total_comfort:{asum_comfort:.2f} +/- {astd_comfort:.2f}\")"
   ]
  },
  {
   "cell_type": "code",
   "execution_count": 13,
   "metadata": {},
   "outputs": [],
   "source": [
    "for i in price3:\n",
    "    if i > 80:\n",
    "        print(i)"
   ]
  },
  {
   "cell_type": "code",
   "execution_count": 11,
   "metadata": {},
   "outputs": [],
   "source": [
    "obs = env.reset()"
   ]
  },
  {
   "cell_type": "code",
   "execution_count": 50,
   "metadata": {},
   "outputs": [],
   "source": [
    "obs = [18.85872821, 18         ,38.50959   ]"
   ]
  },
  {
   "cell_type": "code",
   "execution_count": 14,
   "metadata": {
    "scrolled": true
   },
   "outputs": [
    {
     "name": "stdout",
     "output_type": "stream",
     "text": [
      "19.760516026554566 1.0 {'SecondsON': 0, 'Price': 11.3, 'Action': 1, 'Cost': 0.0, 'Comfort': 1.0}\n",
      "20.51454158613962 1.0 {'SecondsON': 30, 'Price': 11.3, 'Action': 23, 'Cost': 0.02354166666666667, 'Comfort': 1.0}\n",
      "21.307867276936026 1.0 {'SecondsON': 0, 'Price': 11.3, 'Action': 20, 'Cost': 0.0, 'Comfort': 1.0}\n",
      "20.559989587759112 1.0 {'SecondsON': 0, 'Price': 11.3, 'Action': 9, 'Cost': 0.0, 'Comfort': 1.0}\n",
      "19.84699371041591 1.0 {'SecondsON': 0, 'Price': 11.3, 'Action': 20, 'Cost': 0.0, 'Comfort': 1.0}\n",
      "20.199652955519273 1.0 {'SecondsON': 14, 'Price': 11.3, 'Action': 20, 'Cost': 0.010986111111111111, 'Comfort': 1.0}\n",
      "21.23666169427405 1.0 {'SecondsON': 25, 'Price': 11.3, 'Action': 23, 'Cost': 0.01961805555555556, 'Comfort': 1.0}\n",
      "21.540622194700276 1.0 {'SecondsON': 0, 'Price': 11.3, 'Action': 20, 'Cost': 0.0, 'Comfort': 1.0}\n",
      "21.54242897489706 1.0 {'SecondsON': 14, 'Price': 11.3, 'Action': 23, 'Cost': 0.010986111111111111, 'Comfort': 1.0}\n",
      "21.39224032143843 1.0 {'SecondsON': 0, 'Price': 11.3, 'Action': 23, 'Cost': 0.0, 'Comfort': 1.0}\n",
      "21.67282761907982 1.0 {'SecondsON': 14, 'Price': 11.3, 'Action': 23, 'Cost': 0.010986111111111111, 'Comfort': 1.0}\n",
      "21.244697205131068 1.0 {'SecondsON': 0, 'Price': 11.28, 'Action': 20, 'Cost': 0.0, 'Comfort': 1.0}\n",
      "21.627869432585296 1.0 {'SecondsON': 16, 'Price': 11.28, 'Action': 23, 'Cost': 0.012533333333333334, 'Comfort': 1.0}\n",
      "21.311730145886642 1.0 {'SecondsON': 3, 'Price': 2.59401, 'Action': 23, 'Cost': 0.00054041875, 'Comfort': 1.0}\n",
      "20.847063857685878 1.0 {'SecondsON': 0, 'Price': 48.536, 'Action': 20, 'Cost': 0.0, 'Comfort': 1.0}\n",
      "20.120678530689617 1.0 {'SecondsON': 0, 'Price': 53.81021, 'Action': 20, 'Cost': 0.0, 'Comfort': 1.0}\n",
      "20.857905727546914 1.0 {'SecondsON': 30, 'Price': 32.19442, 'Action': 23, 'Cost': 0.06707170833333334, 'Comfort': 1.0}\n",
      "21.635216549141667 1.0 {'SecondsON': 0, 'Price': 42.95843, 'Action': 20, 'Cost': 0.0, 'Comfort': 1.0}\n",
      "20.872070941316807 1.0 {'SecondsON': 0, 'Price': 41.30374000000001, 'Action': 20, 'Cost': 0.0, 'Comfort': 1.0}\n",
      "20.1445192573101 1.0 {'SecondsON': 0, 'Price': 57.7522, 'Action': 19, 'Cost': 0.0, 'Comfort': 1.0}\n",
      "19.89097214708775 1.0 {'SecondsON': 14, 'Price': 39.48165, 'Action': 20, 'Cost': 0.0383849375, 'Comfort': 1.0}\n",
      "21.448369851334817 1.0 {'SecondsON': 21, 'Price': 39.81728, 'Action': 23, 'Cost': 0.058066866666666654, 'Comfort': 1.0}\n",
      "21.43760241249623 1.0 {'SecondsON': 0, 'Price': 41.1791, 'Action': 9, 'Cost': 0.0, 'Comfort': 1.0}\n",
      "21.625742434233906 1.0 {'SecondsON': 14, 'Price': 33.60957, 'Action': 23, 'Cost': 0.03267597083333334, 'Comfort': 1.0}\n",
      "21.31013291228367 1.0 {'SecondsON': 4, 'Price': 33.62423, 'Action': 23, 'Cost': 0.009340063888888889, 'Comfort': 1.0}\n",
      "20.933347630779302 1.0 {'SecondsON': 0, 'Price': 402.15333, 'Action': 11, 'Cost': 0.0, 'Comfort': 1.0}\n",
      "20.202937936722883 1.0 {'SecondsON': 0, 'Price': 134.23, 'Action': 20, 'Cost': 0.0, 'Comfort': 1.0}\n",
      "20.936328467285243 1.0 {'SecondsON': 29, 'Price': 134.23, 'Action': 23, 'Cost': 0.27032430555555553, 'Comfort': 1.0}\n",
      "21.61218373666582 1.0 {'SecondsON': 0, 'Price': 51.00064, 'Action': 23, 'Cost': 0.0, 'Comfort': 1.0}\n",
      "21.473745909692838 1.0 {'SecondsON': 14, 'Price': 28.85865, 'Action': 23, 'Cost': 0.02805702083333333, 'Comfort': 1.0}\n",
      "21.463667608182565 1.0 {'SecondsON': 0, 'Price': 19.41546, 'Action': 20, 'Cost': 0.0, 'Comfort': 1.0}\n",
      "21.605318172583015 1.0 {'SecondsON': 14, 'Price': 44.39731, 'Action': 23, 'Cost': 0.04316405138888889, 'Comfort': 1.0}\n",
      "21.325943686699034 1.0 {'SecondsON': 3, 'Price': 43.78253, 'Action': 23, 'Cost': 0.009121360416666667, 'Comfort': 1.0}\n",
      "20.860614463818877 1.0 {'SecondsON': 0, 'Price': 26.27281, 'Action': 9, 'Cost': 0.0, 'Comfort': 1.0}\n",
      "20.133597122122595 1.0 {'SecondsON': 0, 'Price': 38.52261, 'Action': 20, 'Cost': 0.0, 'Comfort': 1.0}\n",
      "20.870221782118527 1.0 {'SecondsON': 30, 'Price': 31.344890000000003, 'Action': 23, 'Cost': 0.06530185416666667, 'Comfort': 1.0}\n",
      "21.64695816981276 1.0 {'SecondsON': 0, 'Price': 32.48375, 'Action': 20, 'Cost': 0.0, 'Comfort': 1.0}\n",
      "21.461117284328147 1.0 {'SecondsON': 14, 'Price': 29.96358, 'Action': 23, 'Cost': 0.029131258333333333, 'Comfort': 1.0}\n",
      "21.497409137271596 1.0 {'SecondsON': 0, 'Price': 35.26638, 'Action': 23, 'Cost': 0.0, 'Comfort': 1.0}\n",
      "20.740691013886657 1.0 {'SecondsON': 0, 'Price': 38.19113, 'Action': 20, 'Cost': 0.0, 'Comfort': 1.0}\n",
      "21.355895904958157 1.0 {'SecondsON': 22, 'Price': 22.44691, 'Action': 23, 'Cost': 0.03429389027777778, 'Comfort': 1.0}\n",
      "21.4207015407267 1.0 {'SecondsON': 0, 'Price': 22.02519, 'Action': 20, 'Cost': 0.0, 'Comfort': 1.0}\n",
      "21.60962983712135 1.0 {'SecondsON': 14, 'Price': 23.97548, 'Action': 23, 'Cost': 0.023309494444444443, 'Comfort': 1.0}\n",
      "22.684518464206473 0.9994075302171065 {'SecondsON': 26, 'Price': 29.68742, 'Action': 26, 'Cost': 0.05360228611111111, 'Comfort': 0.9994075302171065}\n",
      "23.005436043296616 0.9996400175685405 {'SecondsON': 0, 'Price': 29.00978, 'Action': 23, 'Cost': 0.0, 'Comfort': 0.9996400175685405}\n",
      "22.178381939125828 1.0 {'SecondsON': 0, 'Price': 28.0416, 'Action': 23, 'Cost': 0.0, 'Comfort': 1.0}\n",
      "21.389902519098538 1.0 {'SecondsON': 0, 'Price': 27.96527, 'Action': 23, 'Cost': 0.0, 'Comfort': 1.0}\n",
      "21.670598854330567 1.0 {'SecondsON': 14, 'Price': 29.82454, 'Action': 23, 'Cost': 0.028996080555555553, 'Comfort': 1.0}\n",
      "21.24257239234311 1.0 {'SecondsON': 0, 'Price': 24.71346, 'Action': 20, 'Cost': 0.0, 'Comfort': 1.0}\n",
      "21.62584372332847 1.0 {'SecondsON': 16, 'Price': 28.8691, 'Action': 23, 'Cost': 0.032076777777777774, 'Comfort': 1.0}\n",
      "21.29979699080167 1.0 {'SecondsON': 0, 'Price': 22.936, 'Action': 20, 'Cost': 0.0, 'Comfort': 1.0}\n",
      "20.55229570836409 1.0 {'SecondsON': 0, 'Price': 28.96616, 'Action': 3, 'Cost': 0.0, 'Comfort': 1.0}\n",
      "19.839658681749018 1.0 {'SecondsON': 0, 'Price': 30.24933, 'Action': 20, 'Cost': 0.0, 'Comfort': 1.0}\n",
      "20.589992943617265 1.0 {'SecondsON': 30, 'Price': 29.36669, 'Action': 23, 'Cost': 0.061180604166666666, 'Comfort': 1.0}\n",
      "21.37979950275322 1.0 {'SecondsON': 0, 'Price': 22.76535, 'Action': 22, 'Cost': 0.0, 'Comfort': 1.0}\n",
      "20.628566817964007 1.0 {'SecondsON': 0, 'Price': 25.35385, 'Action': 20, 'Cost': 0.0, 'Comfort': 1.0}\n",
      "21.292175402927747 1.0 {'SecondsON': 24, 'Price': 29.5188, 'Action': 23, 'Cost': 0.04919799999999999, 'Comfort': 1.0}\n",
      "21.51237459301428 1.0 {'SecondsON': 0, 'Price': 33.36844, 'Action': 23, 'Cost': 0.0, 'Comfort': 1.0}\n",
      "20.754958464836857 1.0 {'SecondsON': 0, 'Price': 29.40457, 'Action': 20, 'Cost': 0.0, 'Comfort': 1.0}\n",
      "20.032869031445557 1.0 {'SecondsON': 0, 'Price': 37.25314, 'Action': 20, 'Cost': 0.0, 'Comfort': 1.0}\n",
      "20.77419175685541 1.0 {'SecondsON': 30, 'Price': 36.44314, 'Action': 23, 'Cost': 0.07592320833333333, 'Comfort': 1.0}\n",
      "21.65001969014664 1.0 {'SecondsON': 1, 'Price': 34.764540000000004, 'Action': 23, 'Cost': 0.0024142041666666667, 'Comfort': 1.0}\n",
      "22.269171854576644 0.9999999465212829 {'SecondsON': 24, 'Price': 31.4252, 'Action': 25, 'Cost': 0.05237533333333333, 'Comfort': 0.9999999465212829}\n",
      "22.44380288976057 1.0 {'SecondsON': 0, 'Price': 31.4252, 'Action': 9, 'Cost': 0.0, 'Comfort': 1.0}\n",
      "21.642943953950493 1.0 {'SecondsON': 0, 'Price': 32.339690000000004, 'Action': 20, 'Cost': 0.0, 'Comfort': 1.0}\n",
      "21.457290295768413 1.0 {'SecondsON': 14, 'Price': 35.51962, 'Action': 23, 'Cost': 0.03453296388888889, 'Comfort': 1.0}\n",
      "21.49376064353362 1.0 {'SecondsON': 0, 'Price': 38.25559000000001, 'Action': 23, 'Cost': 0.0, 'Comfort': 1.0}\n",
      "21.588661748896968 1.0 {'SecondsON': 14, 'Price': 23.34798, 'Action': 23, 'Cost': 0.022699425, 'Comfort': 1.0}\n",
      "21.34540809710841 1.0 {'SecondsON': 1, 'Price': 35.82588, 'Action': 23, 'Cost': 0.002487908333333333, 'Comfort': 1.0}\n",
      "22.123310434901615 0.9999828609958529 {'SecondsON': 30, 'Price': 41.6049, 'Action': 36, 'Cost': 0.08667687499999999, 'Comfort': 0.9999828609958529}\n",
      "22.841601433423428 0.9999170994790216 {'SecondsON': 0, 'Price': 38.17024, 'Action': 20, 'Cost': 0.0, 'Comfort': 0.9999170994790216}\n",
      "22.02218874992362 1.0 {'SecondsON': 0, 'Price': 29.50475, 'Action': 20, 'Cost': 0.0, 'Comfort': 1.0}\n",
      "21.24099434656991 1.0 {'SecondsON': 0, 'Price': 69.38274, 'Action': 21, 'Cost': 0.0, 'Comfort': 1.0}\n",
      "20.496235682077863 1.0 {'SecondsON': 0, 'Price': -41.38, 'Action': 20, 'Cost': -0.0, 'Comfort': 1.0}\n",
      "21.19595324430022 1.0 {'SecondsON': 26, 'Price': -0.63694, 'Action': 23, 'Cost': -0.0011500305555555554, 'Comfort': 1.0}\n",
      "21.586299090411007 1.0 {'SecondsON': 0, 'Price': 36.91444, 'Action': 20, 'Cost': 0.0, 'Comfort': 1.0}\n",
      "20.825435044953245 1.0 {'SecondsON': 0, 'Price': 44.36833, 'Action': 20, 'Cost': 0.0, 'Comfort': 1.0}\n",
      "20.10005850881522 1.0 {'SecondsON': 0, 'Price': 73.65385, 'Action': 20, 'Cost': 0.0, 'Comfort': 1.0}\n",
      "19.94051258143887 1.0 {'SecondsON': 14, 'Price': 75.18149, 'Action': 20, 'Cost': 0.07309311527777777, 'Comfort': 1.0}\n",
      "20.093581146372795 1.0 {'SecondsON': 0, 'Price': 1.5016, 'Action': 20, 'Cost': 0.0, 'Comfort': 1.0}\n",
      "20.83207219409047 1.0 {'SecondsON': 30, 'Price': 2.72893, 'Action': 23, 'Cost': 0.005685270833333334, 'Comfort': 1.0}\n",
      "21.705200522152538 1.0 {'SecondsON': 1, 'Price': 1.05243, 'Action': 23, 'Cost': 7.308541666666667e-05, 'Comfort': 1.0}\n",
      "20.941976016464867 1.0 {'SecondsON': 0, 'Price': 51.58074000000001, 'Action': 12, 'Cost': 0.0, 'Comfort': 1.0}\n",
      "21.49142355237917 1.0 {'SecondsON': 20, 'Price': 62.6512, 'Action': 23, 'Cost': 0.08701555555555555, 'Comfort': 1.0}\n",
      "21.41068157839743 1.0 {'SecondsON': 0, 'Price': 65.11949, 'Action': 7, 'Cost': 0.0, 'Comfort': 1.0}\n",
      "20.658008520714016 1.0 {'SecondsON': 0, 'Price': 34.81701, 'Action': 20, 'Cost': 0.0, 'Comfort': 1.0}\n",
      "21.300308877679424 1.0 {'SecondsON': 23, 'Price': 25.62181, 'Action': 23, 'Cost': 0.040923724305555555, 'Comfort': 1.0}\n",
      "21.442265917351143 1.0 {'SecondsON': 0, 'Price': 39.36923, 'Action': 20, 'Cost': 0.0, 'Comfort': 1.0}\n",
      "21.630188428256268 1.0 {'SecondsON': 14, 'Price': 36.03223, 'Action': 23, 'Cost': 0.03503133472222222, 'Comfort': 1.0}\n",
      "21.294378291244698 1.0 {'SecondsON': 0, 'Price': 36.64175, 'Action': 20, 'Cost': 0.0, 'Comfort': 1.0}\n",
      "21.629012766121072 1.0 {'SecondsON': 15, 'Price': 41.58602, 'Action': 23, 'Cost': 0.043318770833333325, 'Comfort': 1.0}\n",
      "21.284545388818184 1.0 {'SecondsON': 5, 'Price': 46.03931, 'Action': 23, 'Cost': 0.01598587152777778, 'Comfort': 1.0}\n",
      "20.99344019688385 1.0 {'SecondsON': 0, 'Price': 128.61886, 'Action': 20, 'Cost': 0.0, 'Comfort': 1.0}\n",
      "21.507367734123516 1.0 {'SecondsON': 19, 'Price': 81.54762, 'Action': 23, 'Cost': 0.10759755416666666, 'Comfort': 1.0}\n",
      "21.361203928901517 1.0 {'SecondsON': 0, 'Price': 11.37, 'Action': 20, 'Cost': 0.0, 'Comfort': 1.0}\n",
      "20.610838561479053 1.0 {'SecondsON': 0, 'Price': 11.38, 'Action': 20, 'Cost': 0.0, 'Comfort': 1.0}\n",
      "19.895471033852782 1.0 {'SecondsON': 0, 'Price': 11.38, 'Action': 20, 'Cost': 0.0, 'Comfort': 1.0}\n",
      "20.15553770529689 1.0 {'SecondsON': 14, 'Price': 32.1074, 'Action': 20, 'Cost': 0.03121552777777778, 'Comfort': 1.0}\n",
      "21.268309825702072 1.0 {'SecondsON': 24, 'Price': 33.89424, 'Action': 23, 'Cost': 0.05649040000000001, 'Comfort': 1.0}\n",
      "21.489622131724705 1.0 {'SecondsON': 0, 'Price': 35.88705, 'Action': 23, 'Cost': 0.0, 'Comfort': 1.0}\n",
      "20.733267202570797 1.0 {'SecondsON': 0, 'Price': 42.36245, 'Action': 20, 'Cost': 0.0, 'Comfort': 1.0}\n",
      "20.012189472750475 1.0 {'SecondsON': 0, 'Price': 39.47286, 'Action': 20, 'Cost': 0.0, 'Comfort': 1.0}\n",
      "20.03972098758122 1.0 {'SecondsON': 14, 'Price': 41.53746, 'Action': 20, 'Cost': 0.04038364166666667, 'Comfort': 1.0}\n",
      "21.365051171733807 1.0 {'SecondsON': 23, 'Price': 37.86782, 'Action': 23, 'Cost': 0.06048332361111112, 'Comfort': 1.0}\n",
      "21.50398856186716 1.0 {'SecondsON': 0, 'Price': 37.04994, 'Action': 23, 'Cost': 0.0, 'Comfort': 1.0}\n",
      "21.552994484490803 1.0 {'SecondsON': 14, 'Price': 33.73976, 'Action': 23, 'Cost': 0.032802544444444436, 'Comfort': 1.0}\n",
      "21.356822533633 1.0 {'SecondsON': 0, 'Price': 40.99138, 'Action': 20, 'Cost': 0.0, 'Comfort': 1.0}\n",
      "21.916752553661063 1.0 {'SecondsON': 21, 'Price': 38.96771, 'Action': 24, 'Cost': 0.05682791041666666, 'Comfort': 1.0}\n",
      "21.88413924680803 1.0 {'SecondsON': 0, 'Price': 29.84608, 'Action': 23, 'Cost': 0.0, 'Comfort': 1.0}\n",
      "21.291976745395367 1.0 {'SecondsON': 11, 'Price': 53.45945, 'Action': 23, 'Cost': 0.04083707986111111, 'Comfort': 1.0}\n",
      "21.71228504673112 1.0 {'SecondsON': 3, 'Price': 53.45945, 'Action': 23, 'Cost': 0.011137385416666668, 'Comfort': 1.0}\n",
      "21.358673725120823 1.0 {'SecondsON': 14, 'Price': 46.04478, 'Action': 23, 'Cost': 0.04476575833333333, 'Comfort': 1.0}\n",
      "21.583598860161782 1.0 {'SecondsON': 0, 'Price': 52.47221999999999, 'Action': 20, 'Cost': 0.0, 'Comfort': 1.0}\n",
      "21.492202572790273 1.0 {'SecondsON': 14, 'Price': 44.68079, 'Action': 23, 'Cost': 0.043439656944444446, 'Comfort': 1.0}\n",
      "21.435555122337288 1.0 {'SecondsON': 0, 'Price': 44.56828, 'Action': 20, 'Cost': 0.0, 'Comfort': 1.0}\n",
      "21.62379063186814 1.0 {'SecondsON': 14, 'Price': 50.75799, 'Action': 23, 'Cost': 0.04934804583333333, 'Comfort': 1.0}\n",
      "21.28827889489309 1.0 {'SecondsON': 0, 'Price': 50.79527, 'Action': 20, 'Cost': 0.0, 'Comfort': 1.0}\n",
      "21.623197852110515 1.0 {'SecondsON': 15, 'Price': 50.79527, 'Action': 23, 'Cost': 0.05291173958333333, 'Comfort': 1.0}\n",
      "21.27900168858935 1.0 {'SecondsON': 5, 'Price': 32.85329, 'Action': 23, 'Cost': 0.01140739236111111, 'Comfort': 1.0}\n",
      "20.988155060737128 1.0 {'SecondsON': 0, 'Price': 36.10875, 'Action': 20, 'Cost': 0.0, 'Comfort': 1.0}\n",
      "21.502329102354793 1.0 {'SecondsON': 19, 'Price': 38.68056, 'Action': 23, 'Cost': 0.05103685, 'Comfort': 1.0}\n",
      "21.35640030428407 1.0 {'SecondsON': 0, 'Price': 24.43576, 'Action': 20, 'Cost': 0.0, 'Comfort': 1.0}\n",
      "21.638659218491362 1.0 {'SecondsON': 14, 'Price': 37.29789, 'Action': 23, 'Cost': 0.0362618375, 'Comfort': 1.0}\n",
      "21.212122455131777 1.0 {'SecondsON': 0, 'Price': 11.38, 'Action': 20, 'Cost': 0.0, 'Comfort': 1.0}\n",
      "21.898443545080983 1.0 {'SecondsON': 30, 'Price': 11.39, 'Action': 26, 'Cost': 0.02372916666666667, 'Comfort': 1.0}\n",
      "22.62722257480345 0.9999996318484262 {'SecondsON': 0, 'Price': 11.38, 'Action': 20, 'Cost': 0.0, 'Comfort': 0.9999996318484262}\n",
      "23.247541888239503 0.9958876917885126 {'SecondsON': 30, 'Price': 11.38, 'Action': 39, 'Cost': 0.023708333333333338, 'Comfort': 0.9958876917885126}\n",
      "23.91339753459028 0.9896121939539964 {'SecondsON': 0, 'Price': 39.71594, 'Action': 20, 'Cost': 0.0, 'Comfort': 0.9896121939539964}\n",
      "23.043995139582787 0.9995327720311694 {'SecondsON': 0, 'Price': 11.38, 'Action': 23, 'Cost': 0.0, 'Comfort': 0.9995327720311694}\n",
      "22.215142598099863 1.0 {'SecondsON': 0, 'Price': 44.65966, 'Action': 20, 'Cost': 0.0, 'Comfort': 1.0}\n",
      "21.4249486217918 1.0 {'SecondsON': 0, 'Price': 36.70768, 'Action': 20, 'Cost': 0.0, 'Comfort': 1.0}\n",
      "20.67161013401161 1.0 {'SecondsON': 0, 'Price': 11.38, 'Action': 21, 'Cost': 0.0, 'Comfort': 1.0}\n",
      "19.95340815552712 1.0 {'SecondsON': 0, 'Price': 11.38, 'Action': 20, 'Cost': 0.0, 'Comfort': 1.0}\n",
      "19.26870388212815 0.9999985823773432 {'SecondsON': 0, 'Price': 40.42494, 'Action': 9, 'Cost': 0.0, 'Comfort': 0.9999985823773432}\n",
      "19.926025979687463 0.9999979081498882 {'SecondsON': 21, 'Price': 35.95889000000001, 'Action': 20, 'Cost': 0.052440047916666684, 'Comfort': 0.9999979081498882}\n",
      "19.986262280157398 1.0 {'SecondsON': 0, 'Price': 38.98564, 'Action': 20, 'Cost': 0.0, 'Comfort': 1.0}\n",
      "20.729758794078567 1.0 {'SecondsON': 30, 'Price': 28.53279, 'Action': 23, 'Cost': 0.0594433125, 'Comfort': 1.0}\n",
      "21.513046525113182 1.0 {'SecondsON': 0, 'Price': 24.24264, 'Action': 1, 'Cost': 0.0, 'Comfort': 1.0}\n",
      "21.561629974685243 1.0 {'SecondsON': 14, 'Price': 34.60944, 'Action': 23, 'Cost': 0.033648066666666664, 'Comfort': 1.0}\n",
      "21.36505525536888 1.0 {'SecondsON': 0, 'Price': 35.42839, 'Action': 20, 'Cost': 0.0, 'Comfort': 1.0}\n",
      "20.614510257978733 1.0 {'SecondsON': 0, 'Price': 35.97978, 'Action': 20, 'Cost': 0.0, 'Comfort': 1.0}\n",
      "21.27877445586891 1.0 {'SecondsON': 24, 'Price': 36.05841, 'Action': 23, 'Cost': 0.060097349999999994, 'Comfort': 1.0}\n",
      "21.49959868039684 1.0 {'SecondsON': 0, 'Price': 36.34815, 'Action': 23, 'Cost': 0.0, 'Comfort': 1.0}\n",
      "20.74277843438888 1.0 {'SecondsON': 0, 'Price': 36.44132000000001, 'Action': 20, 'Cost': 0.0, 'Comfort': 1.0}\n",
      "20.021257090588104 1.0 {'SecondsON': 0, 'Price': 36.62911, 'Action': 20, 'Cost': 0.0, 'Comfort': 1.0}\n",
      "20.002730087077918 1.0 {'SecondsON': 14, 'Price': 48.09173, 'Action': 20, 'Cost': 0.04675584861111111, 'Comfort': 1.0}\n",
      "20.015553219488886 1.0 {'SecondsON': 0, 'Price': 402.42, 'Action': 20, 'Cost': 0.0, 'Comfort': 1.0}\n",
      "20.75768357280789 1.0 {'SecondsON': 30, 'Price': 70.03069, 'Action': 23, 'Cost': 0.14589727083333331, 'Comfort': 1.0}\n",
      "21.539668862425636 1.0 {'SecondsON': 0, 'Price': 66.41353000000001, 'Action': 20, 'Cost': 0.0, 'Comfort': 1.0}\n",
      "21.541520107054904 1.0 {'SecondsON': 14, 'Price': 36.41395, 'Action': 23, 'Cost': 0.03540245138888889, 'Comfort': 1.0}\n",
      "21.39137384416027 1.0 {'SecondsON': 0, 'Price': 36.40731, 'Action': 23, 'Cost': 0.0, 'Comfort': 1.0}\n",
      "20.639601319762388 1.0 {'SecondsON': 0, 'Price': 37.34612, 'Action': 1, 'Cost': 0.0, 'Comfort': 1.0}\n",
      "21.30269524381167 1.0 {'SecondsON': 24, 'Price': 37.87046, 'Action': 23, 'Cost': 0.06311743333333333, 'Comfort': 1.0}\n",
      "21.522403777316857 1.0 {'SecondsON': 0, 'Price': 39.53444, 'Action': 23, 'Cost': 0.0, 'Comfort': 1.0}\n",
      "20.764519877303545 1.0 {'SecondsON': 0, 'Price': 38.77814, 'Action': 20, 'Cost': 0.0, 'Comfort': 1.0}\n",
      "21.37861336481006 1.0 {'SecondsON': 22, 'Price': 36.31865, 'Action': 23, 'Cost': 0.055486826388888896, 'Comfort': 1.0}\n",
      "21.44235943405943 1.0 {'SecondsON': 0, 'Price': 36.41395, 'Action': 20, 'Cost': 0.0, 'Comfort': 1.0}\n",
      "21.630277583245682 1.0 {'SecondsON': 14, 'Price': 37.20425, 'Action': 23, 'Cost': 0.0361707986111111, 'Comfort': 1.0}\n",
      "21.304465215015515 1.0 {'SecondsON': 3, 'Price': 37.30187, 'Action': 23, 'Cost': 0.0077712229166666666, 'Comfort': 1.0}\n",
      "21.199426014038355 1.0 {'SecondsON': 4, 'Price': 37.30187, 'Action': 22, 'Cost': 0.010361630555555555, 'Comfort': 1.0}\n",
      "21.616612823426223 1.0 {'SecondsON': 16, 'Price': 36.31865, 'Action': 23, 'Cost': 0.04035405555555556, 'Comfort': 1.0}\n",
      "21.290996629900793 1.0 {'SecondsON': 0, 'Price': 36.31865, 'Action': 4, 'Cost': 0.0, 'Comfort': 1.0}\n",
      "20.543905805667073 1.0 {'SecondsON': 0, 'Price': 34.64074, 'Action': 20, 'Cost': 0.0, 'Comfort': 1.0}\n",
      "19.83166009304817 1.0 {'SecondsON': 0, 'Price': 42.37296, 'Action': 9, 'Cost': 0.0, 'Comfort': 1.0}\n",
      "20.582367417611074 1.0 {'SecondsON': 30, 'Price': 41.03943, 'Action': 23, 'Cost': 0.08549881250000001, 'Comfort': 1.0}\n",
      "21.372529639400334 1.0 {'SecondsON': 0, 'Price': 41.4363, 'Action': 20, 'Cost': 0.0, 'Comfort': 1.0}\n",
      "21.65403626424177 1.0 {'SecondsON': 14, 'Price': 41.04289, 'Action': 23, 'Cost': 0.03990280972222222, 'Comfort': 1.0}\n",
      "21.27671246042135 1.0 {'SecondsON': 6, 'Price': 41.28088, 'Action': 23, 'Cost': 0.017200366666666668, 'Comfort': 1.0}\n",
      "21.73443175534576 1.0 {'SecondsON': 8, 'Price': 40.68084, 'Action': 23, 'Cost': 0.02260046666666667, 'Comfort': 1.0}\n",
      "21.081754242731556 1.0 {'SecondsON': 0, 'Price': 41.4363, 'Action': 9, 'Cost': 0.0, 'Comfort': 1.0}\n",
      "21.55516000848286 1.0 {'SecondsON': 18, 'Price': 41.55217, 'Action': 23, 'Cost': 0.051940212500000006, 'Comfort': 1.0}\n",
      "21.34537199891508 1.0 {'SecondsON': 0, 'Price': 37.20425, 'Action': 20, 'Cost': 0.0, 'Comfort': 1.0}\n",
      "21.677628072962822 1.0 {'SecondsON': 15, 'Price': 37.20425, 'Action': 23, 'Cost': 0.038754427083333334, 'Comfort': 1.0}\n",
      "21.29758880491978 1.0 {'SecondsON': 0, 'Price': 40.40398, 'Action': 20, 'Cost': 0.0, 'Comfort': 1.0}\n",
      "21.632073538019498 1.0 {'SecondsON': 15, 'Price': 36.72373, 'Action': 23, 'Cost': 0.03825388541666667, 'Comfort': 1.0}\n",
      "21.28746340305587 1.0 {'SecondsON': 5, 'Price': 37.30187, 'Action': 23, 'Cost': 0.012952038194444444, 'Comfort': 1.0}\n",
      "22.425955250509197 0.999762839403932 {'SecondsON': 30, 'Price': 39.96888, 'Action': 28, 'Cost': 0.0832685, 'Comfort': 0.999762839403932}\n",
      "23.130130572546413 0.9992212779848977 {'SecondsON': 0, 'Price': 39.32171, 'Action': 23, 'Cost': 0.0, 'Comfort': 0.9992212779848977}\n",
      "22.297260582744947 1.0 {'SecondsON': 0, 'Price': 41.08546, 'Action': 20, 'Cost': 0.0, 'Comfort': 1.0}\n",
      "21.503236536186094 1.0 {'SecondsON': 0, 'Price': 38.83033, 'Action': 23, 'Cost': 0.0, 'Comfort': 1.0}\n",
      "20.74624661671021 1.0 {'SecondsON': 0, 'Price': 46.76104, 'Action': 20, 'Cost': 0.0, 'Comfort': 1.0}\n",
      "20.024563513192724 1.0 {'SecondsON': 0, 'Price': 37.10714, 'Action': 7, 'Cost': 0.0, 'Comfort': 1.0}\n",
      "20.766273616818385 1.0 {'SecondsON': 30, 'Price': 50.60603, 'Action': 23, 'Cost': 0.10542922916666667, 'Comfort': 1.0}\n",
      "21.547858257636005 1.0 {'SecondsON': 0, 'Price': 37.93937, 'Action': 20, 'Cost': 0.0, 'Comfort': 1.0}\n",
      "20.788787133554283 1.0 {'SecondsON': 0, 'Price': 37.10714, 'Action': 20, 'Cost': 0.0, 'Comfort': 1.0}\n",
      "20.065119895030058 1.0 {'SecondsON': 0, 'Price': 37.01054, 'Action': 20, 'Cost': 0.0, 'Comfort': 1.0}\n",
      "20.804938405818575 1.0 {'SecondsON': 30, 'Price': 36.91444, 'Action': 23, 'Cost': 0.07690508333333332, 'Comfort': 1.0}\n",
      "21.679332282660255 1.0 {'SecondsON': 1, 'Price': 36.81884, 'Action': 23, 'Cost': 0.002556863888888889, 'Comfort': 1.0}\n",
      "21.403385420831246 1.0 {'SecondsON': 14, 'Price': 36.44132000000001, 'Action': 23, 'Cost': 0.035429061111111125, 'Comfort': 1.0}\n",
      "21.53415119177662 1.0 {'SecondsON': 0, 'Price': 37.33128, 'Action': 23, 'Cost': 0.0, 'Comfort': 1.0}\n",
      "21.536259786440695 1.0 {'SecondsON': 14, 'Price': 46.96656, 'Action': 23, 'Cost': 0.045661933333333335, 'Comfort': 1.0}\n",
      "21.38635887050121 1.0 {'SecondsON': 0, 'Price': 55.93232, 'Action': 20, 'Cost': 0.0, 'Comfort': 1.0}\n",
      "22.064553388494257 0.999993411659965 {'SecondsON': 30, 'Price': 56.07755, 'Action': 26, 'Cost': 0.11682822916666667, 'Comfort': 0.999993411659965}\n",
      "22.785584878230548 0.9999601584779741 {'SecondsON': 0, 'Price': 37.10714, 'Action': 23, 'Cost': 0.0, 'Comfort': 0.9999601584779741}\n",
      "21.96878486651662 1.0 {'SecondsON': 0, 'Price': 42.33578, 'Action': 23, 'Cost': 0.0, 'Comfort': 1.0}\n",
      "21.283185540476403 1.0 {'SecondsON': 8, 'Price': 45.87836, 'Action': 23, 'Cost': 0.025487977777777778, 'Comfort': 1.0}\n",
      "21.745456687886282 1.0 {'SecondsON': 6, 'Price': 48.89981, 'Action': 23, 'Cost': 0.020374920833333334, 'Comfort': 1.0}\n",
      "21.04423709485159 1.0 {'SecondsON': 0, 'Price': 42.80395, 'Action': 20, 'Cost': 0.0, 'Comfort': 1.0}\n",
      "20.3086553981053 1.0 {'SecondsON': 0, 'Price': 56.37029, 'Action': 20, 'Cost': 0.0, 'Comfort': 1.0}\n",
      "19.756855486623472 1.0 {'SecondsON': 10, 'Price': 53.24174, 'Action': 20, 'Cost': 0.036973430555555555, 'Comfort': 1.0}\n",
      "21.289626465958083 1.0 {'SecondsON': 24, 'Price': 48.58992, 'Action': 23, 'Cost': 0.0809832, 'Comfort': 1.0}\n",
      "21.509944541179216 1.0 {'SecondsON': 0, 'Price': 56.22354, 'Action': 23, 'Cost': 0.0, 'Comfort': 1.0}\n",
      "21.558672670585246 1.0 {'SecondsON': 14, 'Price': 48.71641, 'Action': 23, 'Cost': 0.047363176388888886, 'Comfort': 1.0}\n",
      "21.36223588308131 1.0 {'SecondsON': 1, 'Price': 47.2222, 'Action': 23, 'Cost': 0.0032793194444444445, 'Comfort': 1.0}\n",
      "20.70962021633785 1.0 {'SecondsON': 0, 'Price': 56.22354, 'Action': 20, 'Cost': 0.0, 'Comfort': 1.0}\n",
      "19.989645407136972 1.0 {'SecondsON': 0, 'Price': 39.9145, 'Action': 7, 'Cost': 0.0, 'Comfort': 1.0}\n",
      "20.063791396331624 1.0 {'SecondsON': 14, 'Price': 45.11027, 'Action': 20, 'Cost': 0.04385720694444445, 'Comfort': 1.0}\n",
      "21.342435915851013 1.0 {'SecondsON': 23, 'Price': 45.65478, 'Action': 23, 'Cost': 0.07292082916666667, 'Comfort': 1.0}\n",
      "21.482428105601585 1.0 {'SecondsON': 0, 'Price': 49.04836, 'Action': 23, 'Cost': 0.0, 'Comfort': 1.0}\n",
      "20.726408713486936 1.0 {'SecondsON': 0, 'Price': 47.77397, 'Action': 20, 'Cost': 0.0, 'Comfort': 1.0}\n",
      "20.005650870901057 1.0 {'SecondsON': 0, 'Price': 55.35883000000001, 'Action': 20, 'Cost': 0.0, 'Comfort': 1.0}\n",
      "20.033487353084976 1.0 {'SecondsON': 14, 'Price': 54.79699, 'Action': 20, 'Cost': 0.05327485138888889, 'Comfort': 1.0}\n",
      "21.35910828058863 1.0 {'SecondsON': 23, 'Price': 54.93638000000001, 'Action': 23, 'Cost': 0.08774560694444446, 'Comfort': 1.0}\n",
      "21.49832285349353 1.0 {'SecondsON': 0, 'Price': 54.79699, 'Action': 23, 'Cost': 0.0, 'Comfort': 1.0}\n",
      "21.5475930307891 1.0 {'SecondsON': 14, 'Price': 55.07648, 'Action': 23, 'Cost': 0.05354657777777778, 'Comfort': 1.0}\n",
      "21.35167300948392 1.0 {'SecondsON': 1, 'Price': 55.35883000000001, 'Action': 23, 'Cost': 0.003844363194444445, 'Comfort': 1.0}\n",
      "21.67921042955057 1.0 {'SecondsON': 13, 'Price': 51.55109, 'Action': 23, 'Cost': 0.04653917847222222, 'Comfort': 1.0}\n",
      "21.275589491686308 1.0 {'SecondsON': 7, 'Price': 50.17275, 'Action': 23, 'Cost': 0.024389531250000002, 'Comfort': 1.0}\n",
      "21.143936900674234 1.0 {'SecondsON': 0, 'Price': 48.98108, 'Action': 20, 'Cost': 0.0, 'Comfort': 1.0}\n",
      "20.403705098814655 1.0 {'SecondsON': 0, 'Price': 48.97139, 'Action': 20, 'Cost': 0.0, 'Comfort': 1.0}\n",
      "21.1277316351413 1.0 {'SecondsON': 30, 'Price': 49.89611, 'Action': 28, 'Cost': 0.10395022916666666, 'Comfort': 1.0}\n",
      "21.892457489069862 1.0 {'SecondsON': 0, 'Price': 49.49192, 'Action': 20, 'Cost': 0.0, 'Comfort': 1.0}\n",
      "21.117313889872413 1.0 {'SecondsON': 0, 'Price': 50.93047, 'Action': 9, 'Cost': 0.0, 'Comfort': 1.0}\n",
      "21.58906111581381 1.0 {'SecondsON': 18, 'Price': 44.23177, 'Action': 23, 'Cost': 0.0552897125, 'Comfort': 1.0}\n",
      "22.774120640119204 0.9992409657414583 {'SecondsON': 25, 'Price': 43.51886, 'Action': 26, 'Cost': 0.07555357638888889, 'Comfort': 0.9992409657414583}\n",
      "23.006372418080357 0.9996376287493722 {'SecondsON': 0, 'Price': 44.21575, 'Action': 20, 'Cost': 0.0, 'Comfort': 0.9996376287493722}\n",
      "22.1792746403925 1.0 {'SecondsON': 0, 'Price': 42.75818, 'Action': 23, 'Cost': 0.0, 'Comfort': 1.0}\n",
      "21.390753583827486 1.0 {'SecondsON': 0, 'Price': 40.96747, 'Action': 20, 'Cost': 0.0, 'Comfort': 1.0}\n",
      "21.671410224494267 1.0 {'SecondsON': 14, 'Price': 41.50922, 'Action': 23, 'Cost': 0.0403561861111111, 'Comfort': 1.0}\n",
      "21.27665034039726 1.0 {'SecondsON': 5, 'Price': 44.54892, 'Action': 23, 'Cost': 0.015468375000000001, 'Comfort': 1.0}\n",
      "20.985913381928672 1.0 {'SecondsON': 0, 'Price': 42.48259, 'Action': 18, 'Cost': 0.0, 'Comfort': 1.0}\n",
      "21.500191977833094 1.0 {'SecondsON': 19, 'Price': 42.48259, 'Action': 23, 'Cost': 0.05605341736111111, 'Comfort': 1.0}\n",
      "21.354362857525885 1.0 {'SecondsON': 0, 'Price': 37.89921, 'Action': 5, 'Cost': 0.0, 'Comfort': 1.0}\n",
      "20.60431656495739 1.0 {'SecondsON': 0, 'Price': 37.56404000000001, 'Action': 20, 'Cost': 0.0, 'Comfort': 1.0}\n",
      "21.269056207545304 1.0 {'SecondsON': 24, 'Price': 39.47244, 'Action': 23, 'Cost': 0.0657874, 'Comfort': 1.0}\n",
      "21.490333701523966 1.0 {'SecondsON': 0, 'Price': 41.14917, 'Action': 20, 'Cost': 0.0, 'Comfort': 1.0}\n",
      "21.585394643111982 1.0 {'SecondsON': 14, 'Price': 40.87126, 'Action': 23, 'Cost': 0.03973594722222222, 'Comfort': 1.0}\n",
      "21.34229337261636 1.0 {'SecondsON': 0, 'Price': 37.01054, 'Action': 20, 'Cost': 0.0, 'Comfort': 1.0}\n",
      "21.674693037073073 1.0 {'SecondsON': 15, 'Price': 37.36795, 'Action': 23, 'Cost': 0.03892494791666666, 'Comfort': 1.0}\n",
      "21.294790662229445 1.0 {'SecondsON': 0, 'Price': 37.80055, 'Action': 20, 'Cost': 0.0, 'Comfort': 1.0}\n",
      "20.547522880287662 1.0 {'SecondsON': 0, 'Price': 37.64474000000001, 'Action': 20, 'Cost': 0.0, 'Comfort': 1.0}\n",
      "21.264841602135707 1.0 {'SecondsON': 30, 'Price': 37.36795, 'Action': 39, 'Cost': 0.07784989583333332, 'Comfort': 1.0}\n",
      "22.023172501196058 1.0 {'SecondsON': 0, 'Price': 402.44, 'Action': 23, 'Cost': 0.0, 'Comfort': 1.0}\n",
      "21.241932214635412 1.0 {'SecondsON': 0, 'Price': 48.55313, 'Action': 20, 'Cost': 0.0, 'Comfort': 1.0}\n",
      "21.625233404190784 1.0 {'SecondsON': 16, 'Price': 46.05719000000001, 'Action': 23, 'Cost': 0.051174655555555566, 'Comfort': 1.0}\n",
      "21.309217064663535 1.0 {'SecondsON': 3, 'Price': 38.88972, 'Action': 23, 'Cost': 0.008102024999999999, 'Comfort': 1.0}\n",
      "21.709098432200296 1.0 {'SecondsON': 11, 'Price': 39.21129000000001, 'Action': 23, 'Cost': 0.02995306875000001, 'Comfort': 1.0}\n",
      "21.15385260504957 1.0 {'SecondsON': 0, 'Price': 36.87632, 'Action': 20, 'Cost': 0.0, 'Comfort': 1.0}\n",
      "21.58421508309434 1.0 {'SecondsON': 17, 'Price': 36.73601, 'Action': 23, 'Cost': 0.043368900694444434, 'Comfort': 1.0}\n",
      "21.314954625096142 1.0 {'SecondsON': 0, 'Price': 35.96989, 'Action': 9, 'Cost': 0.0, 'Comfort': 1.0}\n",
      "21.648629397850076 1.0 {'SecondsON': 15, 'Price': 35.14651, 'Action': 23, 'Cost': 0.036610947916666664, 'Comfort': 1.0}\n",
      "22.679682548408255 0.9994209564862032 {'SecondsON': 26, 'Price': 35.15429, 'Action': 26, 'Cost': 0.06347302361111112, 'Comfort': 0.9994209564862032}\n",
      "23.000825679760972 0.9996516281467528 {'SecondsON': 0, 'Price': 34.382909999999995, 'Action': 9, 'Cost': 0.0, 'Comfort': 0.9996516281467528}\n",
      "23.60038400194463 0.9917440281539179 {'SecondsON': 28, 'Price': 55.28018, 'Action': 28, 'Cost': 0.10748923888888887, 'Comfort': 0.9917440281539179}\n",
      "24.05752279672047 0.9863227668574596 {'SecondsON': 0, 'Price': 49.39475, 'Action': 20, 'Cost': 0.0, 'Comfort': 0.9863227668574596}\n",
      "23.181398246009095 0.9989831561846827 {'SecondsON': 0, 'Price': 51.09288, 'Action': 23, 'Cost': 0.0, 'Comfort': 0.9989831561846827}\n",
      "22.34613707732269 1.0 {'SecondsON': 0, 'Price': 78.27932, 'Action': 23, 'Cost': 0.0, 'Comfort': 1.0}\n",
      "21.549833379008447 1.0 {'SecondsON': 0, 'Price': 50.08676, 'Action': 9, 'Cost': 0.0, 'Comfort': 1.0}\n",
      "21.505647544623514 1.0 {'SecondsON': 14, 'Price': 60.65613000000001, 'Action': 23, 'Cost': 0.05897123750000001, 'Comfort': 1.0}\n",
      "21.40273741137781 1.0 {'SecondsON': 0, 'Price': 37.16586, 'Action': 23, 'Cost': 0.0, 'Comfort': 1.0}\n",
      "20.650434878103898 1.0 {'SecondsON': 0, 'Price': 27.40542, 'Action': 20, 'Cost': 0.0, 'Comfort': 1.0}\n",
      "19.933220536104344 1.0 {'SecondsON': 0, 'Price': 31.24145, 'Action': 20, 'Cost': 0.0, 'Comfort': 1.0}\n",
      "20.100906893888027 1.0 {'SecondsON': 14, 'Price': 30.94724, 'Action': 20, 'Cost': 0.030087594444444445, 'Comfort': 1.0}\n",
      "19.927043712838334 1.0 {'SecondsON': 0, 'Price': 28.18776, 'Action': 9, 'Cost': 0.0, 'Comfort': 1.0}\n",
      "20.673302243800777 1.0 {'SecondsON': 30, 'Price': 22.75035, 'Action': 23, 'Cost': 0.047396562499999996, 'Comfort': 1.0}\n",
      "21.459223168460596 1.0 {'SecondsON': 0, 'Price': 27.76439, 'Action': 20, 'Cost': 0.0, 'Comfort': 1.0}\n",
      "20.704286079324998 1.0 {'SecondsON': 0, 'Price': 26.39418, 'Action': 20, 'Cost': 0.0, 'Comfort': 1.0}\n",
      "21.34442800167609 1.0 {'SecondsON': 23, 'Price': 26.05793, 'Action': 23, 'Cost': 0.04162030486111111, 'Comfort': 1.0}\n",
      "21.48432727842242 1.0 {'SecondsON': 0, 'Price': 21.49946, 'Action': 23, 'Cost': 0.0, 'Comfort': 1.0}\n",
      "20.728219306864997 1.0 {'SecondsON': 0, 'Price': 14.61041, 'Action': 20, 'Cost': 0.0, 'Comfort': 1.0}\n",
      "20.007377016275864 1.0 {'SecondsON': 0, 'Price': 17.997770000000006, 'Action': 20, 'Cost': 0.0, 'Comfort': 1.0}\n",
      "20.035132989201337 1.0 {'SecondsON': 14, 'Price': 27.24232, 'Action': 20, 'Cost': 0.026485588888888887, 'Comfort': 1.0}\n",
      "20.000809220762687 1.0 {'SecondsON': 0, 'Price': 21.18379, 'Action': 20, 'Cost': 0.0, 'Comfort': 1.0}\n",
      "20.74362724988308 1.0 {'SecondsON': 30, 'Price': 20.38648, 'Action': 23, 'Cost': 0.042471833333333334, 'Comfort': 1.0}\n",
      "21.526268141370544 1.0 {'SecondsON': 0, 'Price': 16.94654, 'Action': 20, 'Cost': 0.0, 'Comfort': 1.0}\n",
      "20.768204003302632 1.0 {'SecondsON': 0, 'Price': 17.25273, 'Action': 9, 'Cost': 0.0, 'Comfort': 1.0}\n",
      "21.47522992257125 1.0 {'SecondsON': 30, 'Price': 19.78167, 'Action': 26, 'Cost': 0.04121181249999999, 'Comfort': 1.0}\n",
      "22.223748086325205 1.0 {'SecondsON': 0, 'Price': 26.3583, 'Action': 20, 'Cost': 0.0, 'Comfort': 1.0}\n",
      "21.433152740882395 1.0 {'SecondsON': 0, 'Price': 22.10487, 'Action': 20, 'Cost': 0.0, 'Comfort': 1.0}\n",
      "20.67943160425129 1.0 {'SecondsON': 0, 'Price': 22.79631, 'Action': 20, 'Cost': 0.0, 'Comfort': 1.0}\n",
      "19.960864824065787 1.0 {'SecondsON': 0, 'Price': 22.8104, 'Action': 20, 'Cost': 0.0, 'Comfort': 1.0}\n",
      "20.081843681083726 1.0 {'SecondsON': 14, 'Price': 18.90372, 'Action': 20, 'Cost': 0.018378616666666663, 'Comfort': 1.0}\n",
      "19.95428777031653 1.0 {'SecondsON': 0, 'Price': 19.374370000000006, 'Action': 20, 'Cost': 0.0, 'Comfort': 1.0}\n",
      "20.699275609426156 1.0 {'SecondsON': 30, 'Price': 35.14034, 'Action': 23, 'Cost': 0.07320904166666667, 'Comfort': 1.0}\n",
      "21.483985108654323 1.0 {'SecondsON': 0, 'Price': 33.7252, 'Action': 21, 'Cost': 0.0, 'Comfort': 1.0}\n",
      "20.727893096259255 1.0 {'SecondsON': 0, 'Price': 35.0052, 'Action': 20, 'Cost': 0.0, 'Comfort': 1.0}\n",
      "21.43679915915922 1.0 {'SecondsON': 30, 'Price': 36.4052, 'Action': 39, 'Cost': 0.07584416666666666, 'Comfort': 1.0}\n",
      "22.187109774643417 1.0 {'SecondsON': 0, 'Price': 36.4052, 'Action': 23, 'Cost': 0.0, 'Comfort': 1.0}\n",
      "21.398223279073356 1.0 {'SecondsON': 0, 'Price': 39.34417, 'Action': 23, 'Cost': 0.0, 'Comfort': 1.0}\n",
      "22.07586442841627 0.9999918665205171 {'SecondsON': 30, 'Price': 40.64659, 'Action': 26, 'Cost': 0.08468039583333334, 'Comfort': 0.9999918665205171}\n",
      "22.796368359205548 0.9999534513418306 {'SecondsON': 0, 'Price': 40.64659, 'Action': 1, 'Cost': 0.0, 'Comfort': 0.9999534513418306}\n",
      "21.979065394455688 1.0 {'SecondsON': 0, 'Price': 38.36969000000001, 'Action': 23, 'Cost': 0.0, 'Comfort': 1.0}\n",
      "21.26974750728047 1.0 {'SecondsON': 7, 'Price': 36.77417, 'Action': 23, 'Cost': 0.017876332638888884, 'Comfort': 1.0}\n",
      "21.733481015690785 1.0 {'SecondsON': 7, 'Price': 37.64417, 'Action': 23, 'Cost': 0.018299249305555557, 'Comfort': 1.0}\n",
      "21.055223450302293 1.0 {'SecondsON': 0, 'Price': 36.74417, 'Action': 15, 'Cost': 0.0, 'Comfort': 1.0}\n",
      "21.52986664046498 1.0 {'SecondsON': 18, 'Price': 37.70417, 'Action': 23, 'Cost': 0.0471302125, 'Comfort': 1.0}\n",
      "21.32125834051631 1.0 {'SecondsON': 0, 'Price': 39.43417, 'Action': 20, 'Cost': 0.0, 'Comfort': 1.0}\n",
      "21.654639101270245 1.0 {'SecondsON': 15, 'Price': 37.95417, 'Action': 23, 'Cost': 0.039535593749999993, 'Comfort': 1.0}\n",
      "21.275672063347788 1.0 {'SecondsON': 0, 'Price': 40.06866, 'Action': 13, 'Cost': 0.0, 'Comfort': 1.0}\n",
      "21.95902913189618 0.9999998741171561 {'SecondsON': 30, 'Price': 38.4545, 'Action': 28, 'Cost': 0.08011354166666668, 'Comfort': 0.9999998741171561}\n",
      "22.684982385332358 0.99999499420836 {'SecondsON': 0, 'Price': 33.048790000000004, 'Action': 23, 'Cost': 0.0, 'Comfort': 0.99999499420836}\n",
      "21.872874581018202 1.0 {'SecondsON': 0, 'Price': 39.95866, 'Action': 23, 'Cost': 0.0, 'Comfort': 1.0}\n",
      "21.28123747561364 1.0 {'SecondsON': 11, 'Price': 37.68417, 'Action': 23, 'Cost': 0.02878651875, 'Comfort': 1.0}\n",
      "21.70204666792821 1.0 {'SecondsON': 3, 'Price': 34.72955, 'Action': 23, 'Cost': 0.007235322916666668, 'Comfort': 1.0}\n",
      "20.954915716580675 1.0 {'SecondsON': 0, 'Price': 33.276720000000005, 'Action': 20, 'Cost': 0.0, 'Comfort': 1.0}\n",
      "21.65323320271382 1.0 {'SecondsON': 30, 'Price': 28.24325, 'Action': 33, 'Cost': 0.058840104166666664, 'Comfort': 1.0}\n",
      "22.39344910392731 1.0 {'SecondsON': 0, 'Price': 29.75806, 'Action': 14, 'Cost': 0.0, 'Comfort': 1.0}\n",
      "21.594938722309937 1.0 {'SecondsON': 0, 'Price': 25.34, 'Action': 23, 'Cost': 0.0, 'Comfort': 1.0}\n",
      "20.833671715220138 1.0 {'SecondsON': 0, 'Price': 26.70986, 'Action': 20, 'Cost': 0.0, 'Comfort': 1.0}\n",
      "20.107911012009673 1.0 {'SecondsON': 0, 'Price': 22.88311, 'Action': 20, 'Cost': 0.0, 'Comfort': 1.0}\n",
      "19.94799883552225 1.0 {'SecondsON': 14, 'Price': 22.77494, 'Action': 20, 'Cost': 0.022142302777777775, 'Comfort': 1.0}\n",
      "21.410809268103147 1.0 {'SecondsON': 21, 'Price': 12.43751, 'Action': 23, 'Cost': 0.018138035416666663, 'Comfort': 1.0}\n",
      "21.40179369486452 1.0 {'SecondsON': 0, 'Price': 23.04716, 'Action': 23, 'Cost': 0.0, 'Comfort': 1.0}\n",
      "21.63680559797312 1.0 {'SecondsON': 14, 'Price': 19.87383, 'Action': 23, 'Cost': 0.019321779166666667, 'Comfort': 1.0}\n",
      "21.25548510447129 1.0 {'SecondsON': 0, 'Price': 7.035189999999999, 'Action': 22, 'Cost': 0.0, 'Comfort': 1.0}\n",
      "21.638154172812325 1.0 {'SecondsON': 16, 'Price': 9.06947, 'Action': 23, 'Cost': 0.01007718888888889, 'Comfort': 1.0}\n",
      "21.32153519487732 1.0 {'SecondsON': 3, 'Price': 8.91676, 'Action': 23, 'Cost': 0.0018576583333333333, 'Comfort': 1.0}\n",
      "20.856411588750298 1.0 {'SecondsON': 0, 'Price': 8.765189999999999, 'Action': 20, 'Cost': 0.0, 'Comfort': 1.0}\n",
      "20.129590273622856 1.0 {'SecondsON': 0, 'Price': 7.66954, 'Action': 15, 'Cost': 0.0, 'Comfort': 1.0}\n",
      "20.8664018172997 1.0 {'SecondsON': 30, 'Price': 27.09859, 'Action': 23, 'Cost': 0.05645539583333333, 'Comfort': 1.0}\n",
      "21.643316372220944 1.0 {'SecondsON': 0, 'Price': 19.65174, 'Action': 20, 'Cost': 0.0, 'Comfort': 1.0}\n",
      "21.457645344054132 1.0 {'SecondsON': 14, 'Price': 18.3069, 'Action': 23, 'Cost': 0.017798374999999998, 'Comfort': 1.0}\n",
      "21.494099131989213 1.0 {'SecondsON': 0, 'Price': 0.00016, 'Action': 23, 'Cost': 0.0, 'Comfort': 1.0}\n",
      "21.588984449890535 1.0 {'SecondsON': 14, 'Price': 0.0, 'Action': 23, 'Cost': 0.0, 'Comfort': 1.0}\n",
      "21.34571574698399 1.0 {'SecondsON': 1, 'Price': -0.00046, 'Action': 23, 'Cost': -3.194444444444444e-08, 'Comfort': 1.0}\n",
      "20.6938705969803 1.0 {'SecondsON': 0, 'Price': -4.2916, 'Action': 20, 'Cost': -0.0, 'Comfort': 1.0}\n",
      "19.974630366797932 1.0 {'SecondsON': 0, 'Price': -0.00047, 'Action': 20, 'Cost': -0.0, 'Comfort': 1.0}\n",
      "20.04947667346342 1.0 {'SecondsON': 14, 'Price': -0.00047, 'Action': 20, 'Cost': -4.569444444444444e-07, 'Comfort': 1.0}\n",
      "21.32878884690104 1.0 {'SecondsON': 23, 'Price': -6.69186, 'Action': 23, 'Cost': -0.0106883875, 'Comfort': 1.0}\n",
      "21.46941755048012 1.0 {'SecondsON': 0, 'Price': -0.9747, 'Action': 20, 'Cost': -0.0, 'Comfort': 1.0}\n",
      "21.610799931448728 1.0 {'SecondsON': 14, 'Price': -0.97737, 'Action': 23, 'Cost': -0.0009502208333333333, 'Comfort': 1.0}\n",
      "21.321167843428714 1.0 {'SecondsON': 0, 'Price': -0.0001, 'Action': 20, 'Cost': -0.0, 'Comfort': 1.0}\n",
      "20.57266980166691 1.0 {'SecondsON': 0, 'Price': 5e-05, 'Action': 20, 'Cost': 0.0, 'Comfort': 1.0}\n",
      "19.85908250564395 1.0 {'SecondsON': 0, 'Price': 2.96848, 'Action': 20, 'Cost': 0.0, 'Comfort': 1.0}\n",
      "20.608510819681428 1.0 {'SecondsON': 30, 'Price': -3.61991, 'Action': 23, 'Cost': -0.007541479166666666, 'Comfort': 1.0}\n",
      "21.397453685358172 1.0 {'SecondsON': 0, 'Price': 0.0, 'Action': 7, 'Cost': 0.0, 'Comfort': 1.0}\n",
      "20.645397590692422 1.0 {'SecondsON': 0, 'Price': -0.00016, 'Action': 20, 'Cost': -0.0, 'Comfort': 1.0}\n",
      "19.92841819314193 1.0 {'SecondsON': 0, 'Price': 25.26, 'Action': 20, 'Cost': 0.0, 'Comfort': 1.0}\n",
      "20.674612616879326 1.0 {'SecondsON': 30, 'Price': 25.26, 'Action': 23, 'Cost': 0.052625, 'Comfort': 1.0}\n",
      "21.460472424343347 1.0 {'SecondsON': 0, 'Price': 25.26, 'Action': 9, 'Cost': 0.0, 'Comfort': 1.0}\n",
      "20.70547706858305 1.0 {'SecondsON': 0, 'Price': 25.26, 'Action': 20, 'Cost': 0.0, 'Comfort': 1.0}\n",
      "19.985695500205463 1.0 {'SecondsON': 0, 'Price': 25.26, 'Action': 20, 'Cost': 0.0, 'Comfort': 1.0}\n",
      "20.72921844934717 1.0 {'SecondsON': 30, 'Price': 25.26, 'Action': 23, 'Cost': 0.052625, 'Comfort': 1.0}\n",
      "21.698566284056913 1.0 {'SecondsON': 2, 'Price': 25.26, 'Action': 23, 'Cost': 0.0035083333333333334, 'Comfort': 1.0}\n",
      "21.382097528431984 1.0 {'SecondsON': 14, 'Price': 25.26, 'Action': 23, 'Cost': 0.02455833333333333, 'Comfort': 1.0}\n",
      "21.559856522493174 1.0 {'SecondsON': 0, 'Price': 25.26, 'Action': 2, 'Cost': 0.0, 'Comfort': 1.0}\n",
      "20.800225786561636 1.0 {'SecondsON': 0, 'Price': 25.26, 'Action': 20, 'Cost': 0.0, 'Comfort': 1.0}\n",
      "20.07602503708018 1.0 {'SecondsON': 0, 'Price': 25.26, 'Action': 20, 'Cost': 0.0, 'Comfort': 1.0}\n",
      "19.963454145783516 1.0 {'SecondsON': 14, 'Price': 25.26, 'Action': 20, 'Cost': 0.02455833333333333, 'Comfort': 1.0}\n",
      "21.406227477718378 1.0 {'SecondsON': 22, 'Price': 25.26, 'Action': 23, 'Cost': 0.03859166666666666, 'Comfort': 1.0}\n",
      "21.468685595335597 1.0 {'SecondsON': 0, 'Price': 25.26, 'Action': 9, 'Cost': 0.0, 'Comfort': 1.0}\n",
      "20.713307168534076 1.0 {'SecondsON': 0, 'Price': 25.26, 'Action': 20, 'Cost': 0.0, 'Comfort': 1.0}\n",
      "21.35302833767795 1.0 {'SecondsON': 23, 'Price': 25.26, 'Action': 23, 'Cost': 0.04034583333333334, 'Comfort': 1.0}\n",
      "21.49252648559471 1.0 {'SecondsON': 0, 'Price': 25.26, 'Action': 20, 'Cost': 0.0, 'Comfort': 1.0}\n",
      "21.58748515339858 1.0 {'SecondsON': 14, 'Price': 25.26, 'Action': 23, 'Cost': 0.02455833333333333, 'Comfort': 1.0}\n",
      "22.74071509689719 0.9993491699275429 {'SecondsON': 25, 'Price': 25.26, 'Action': 26, 'Cost': 0.043854166666666666, 'Comfort': 0.9993491699275429}\n",
      "22.974524944967584 0.9997131253988939 {'SecondsON': 0, 'Price': 25.26, 'Action': 20, 'Cost': 0.0, 'Comfort': 0.9997131253988939}\n",
      "22.1489125673399 1.0 {'SecondsON': 0, 'Price': 25.26, 'Action': 23, 'Cost': 0.0, 'Comfort': 1.0}\n",
      "21.36180763019446 1.0 {'SecondsON': 0, 'Price': 25.26, 'Action': 20, 'Cost': 0.0, 'Comfort': 1.0}\n",
      "20.61141410550082 1.0 {'SecondsON': 0, 'Price': 25.26, 'Action': 20, 'Cost': 0.0, 'Comfort': 1.0}\n",
      "19.896019733888473 1.0 {'SecondsON': 0, 'Price': 25.8512, 'Action': 20, 'Cost': 0.0, 'Comfort': 1.0}\n",
      "20.156060813378602 1.0 {'SecondsON': 14, 'Price': 25.26, 'Action': 20, 'Cost': 0.02455833333333333, 'Comfort': 1.0}\n",
      "21.268808535465794 1.0 {'SecondsON': 24, 'Price': 25.26, 'Action': 23, 'Cost': 0.0421, 'Comfort': 1.0}\n",
      "21.490097581133984 1.0 {'SecondsON': 0, 'Price': 25.26, 'Action': 23, 'Cost': 0.0, 'Comfort': 1.0}\n",
      "21.585169535628417 1.0 {'SecondsON': 14, 'Price': 27.48262, 'Action': 23, 'Cost': 0.026719213888888885, 'Comfort': 1.0}\n",
      "21.345414508975008 1.0 {'SecondsON': 2, 'Price': 26.83388, 'Action': 23, 'Cost': 0.003726927777777778, 'Comfort': 1.0}\n",
      "21.71171426445588 1.0 {'SecondsON': 12, 'Price': 12.45959, 'Action': 23, 'Cost': 0.010382991666666666, 'Comfort': 1.0}\n",
      "22.624639077964584 0.9993727133552788 {'SecondsON': 30, 'Price': 19.74804, 'Action': 28, 'Cost': 0.04114175, 'Comfort': 0.9993727133552788}\n",
      "23.319547574712075 0.9981138602145642 {'SecondsON': 0, 'Price': 24.15513, 'Action': 20, 'Cost': 0.0, 'Comfort': 0.9981138602145642}\n",
      "22.47784297422056 1.0 {'SecondsON': 0, 'Price': 28.821240000000003, 'Action': 20, 'Cost': 0.0, 'Comfort': 1.0}\n",
      "21.67539637262218 1.0 {'SecondsON': 0, 'Price': 29.15001, 'Action': 20, 'Cost': 0.0, 'Comfort': 1.0}\n",
      "20.910376735042934 1.0 {'SecondsON': 0, 'Price': 32.87642, 'Action': 20, 'Cost': 0.0, 'Comfort': 1.0}\n",
      "21.461298095092648 1.0 {'SecondsON': 20, 'Price': 33.26361, 'Action': 23, 'Cost': 0.04619945833333333, 'Comfort': 1.0}\n",
      "21.381961204519172 1.0 {'SecondsON': 0, 'Price': 26.97491, 'Action': 20, 'Cost': 0.0, 'Comfort': 1.0}\n",
      "20.630627695657612 1.0 {'SecondsON': 0, 'Price': 27.15035, 'Action': 20, 'Cost': 0.0, 'Comfort': 1.0}\n",
      "19.91433718173992 1.0 {'SecondsON': 0, 'Price': 26.00219, 'Action': 20, 'Cost': 0.0, 'Comfort': 1.0}\n",
      "20.661188358843898 1.0 {'SecondsON': 30, 'Price': 29.75777, 'Action': 23, 'Cost': 0.06199535416666666, 'Comfort': 1.0}\n",
      "21.721936099976162 1.0 {'SecondsON': 3, 'Price': 29.48752, 'Action': 23, 'Cost': 0.006143233333333332, 'Comfort': 1.0}\n",
      "21.367874642965152 1.0 {'SecondsON': 14, 'Price': 33.70093, 'Action': 23, 'Cost': 0.032764793055555554, 'Comfort': 1.0}\n",
      "21.592370637399856 1.0 {'SecondsON': 0, 'Price': 31.95456, 'Action': 23, 'Cost': 0.0, 'Comfort': 1.0}\n",
      "21.500565224996958 1.0 {'SecondsON': 14, 'Price': 33.39164, 'Action': 23, 'Cost': 0.032464094444444445, 'Comfort': 1.0}\n",
      "21.443527731539707 1.0 {'SecondsON': 0, 'Price': 33.375820000000004, 'Action': 20, 'Cost': 0.0, 'Comfort': 1.0}\n",
      "21.63139139008737 1.0 {'SecondsON': 14, 'Price': 34.76743, 'Action': 23, 'Cost': 0.033801668055555546, 'Comfort': 1.0}\n",
      "21.30552707272002 1.0 {'SecondsON': 3, 'Price': 34.67783, 'Action': 23, 'Cost': 0.0072245479166666675, 'Comfort': 1.0}\n",
      "20.84115010245736 1.0 {'SecondsON': 0, 'Price': 34.43157, 'Action': 20, 'Cost': 0.0, 'Comfort': 1.0}\n",
      "20.11504059930246 1.0 {'SecondsON': 0, 'Price': 34.40933, 'Action': 20, 'Cost': 0.0, 'Comfort': 1.0}\n",
      "20.852530755283457 1.0 {'SecondsON': 30, 'Price': 35.78608, 'Action': 23, 'Cost': 0.07455433333333332, 'Comfort': 1.0}\n",
      "21.630092271308353 1.0 {'SecondsON': 0, 'Price': 35.77913, 'Action': 23, 'Cost': 0.0, 'Comfort': 1.0}\n",
      "21.445038029290373 1.0 {'SecondsON': 14, 'Price': 27.0812, 'Action': 23, 'Cost': 0.026328944444444446, 'Comfort': 1.0}\n",
      "21.482079835811476 1.0 {'SecondsON': 0, 'Price': 35.54135, 'Action': 7, 'Cost': 0.0, 'Comfort': 1.0}\n",
      "21.577525746485815 1.0 {'SecondsON': 14, 'Price': 36.11266, 'Action': 23, 'Cost': 0.03510953055555555, 'Comfort': 1.0}\n",
      "22.76452462838745 0.9989288548569245 {'SecondsON': 30, 'Price': 36.10437, 'Action': 28, 'Cost': 0.07521743750000001, 'Comfort': 0.9989288548569245}\n",
      "23.452908714099923 0.9969089842631446 {'SecondsON': 0, 'Price': 35.48472, 'Action': 20, 'Cost': 0.0, 'Comfort': 0.9969089842631446}\n",
      "22.604984008051886 0.9999999749211684 {'SecondsON': 0, 'Price': 36.02626, 'Action': 7, 'Cost': 0.0, 'Comfort': 0.9999999749211684}\n",
      "21.79660741324388 1.0 {'SecondsON': 0, 'Price': 36.11887, 'Action': 20, 'Cost': 0.0, 'Comfort': 1.0}\n",
      "21.327563905119472 1.0 {'SecondsON': 14, 'Price': 36.02626, 'Action': 23, 'Cost': 0.03502553055555555, 'Comfort': 1.0}\n",
      "21.646307652454993 1.0 {'SecondsON': 0, 'Price': 36.11887, 'Action': 23, 'Cost': 0.0, 'Comfort': 1.0}\n",
      "21.460497107792673 1.0 {'SecondsON': 14, 'Price': 36.11887, 'Action': 23, 'Cost': 0.03511556805555556, 'Comfort': 1.0}\n",
      "21.496817886430158 1.0 {'SecondsON': 0, 'Price': 36.48123, 'Action': 11, 'Cost': 0.0, 'Comfort': 1.0}\n",
      "21.591576398729178 1.0 {'SecondsON': 14, 'Price': 36.66163, 'Action': 23, 'Cost': 0.03564325138888889, 'Comfort': 1.0}\n",
      "21.34818680456867 1.0 {'SecondsON': 1, 'Price': 36.11887, 'Action': 23, 'Cost': 0.0025082548611111114, 'Comfort': 1.0}\n",
      "21.675886824944975 1.0 {'SecondsON': 13, 'Price': 37.46768, 'Action': 23, 'Cost': 0.03382498888888889, 'Comfort': 1.0}\n",
      "21.20255570658115 1.0 {'SecondsON': 0, 'Price': 37.81443, 'Action': 21, 'Cost': 0.0, 'Comfort': 1.0}\n",
      "20.459589861191258 1.0 {'SecondsON': 0, 'Price': 38.20639, 'Action': 20, 'Cost': 0.0, 'Comfort': 1.0}\n",
      "19.77126998317588 1.0 {'SecondsON': 4, 'Price': 37.73573, 'Action': 20, 'Cost': 0.01048214722222222, 'Comfort': 1.0}\n",
      "20.59436250462377 1.0 {'SecondsON': 16, 'Price': 38.74357, 'Action': 21, 'Cost': 0.04304841111111111, 'Comfort': 1.0}\n",
      "21.527162456782037 1.0 {'SecondsON': 18, 'Price': 38.50959, 'Action': 23, 'Cost': 0.048136987500000006, 'Comfort': 1.0}\n",
      "21.31868028284001 1.0 {'SecondsON': 0, 'Price': 36.11887, 'Action': 20, 'Cost': 0.0, 'Comfort': 1.0}\n",
      "21.652181286949332 1.0 {'SecondsON': 15, 'Price': 36.11887, 'Action': 23, 'Cost': 0.03762382291666667, 'Comfort': 1.0}\n",
      "21.293322133269744 1.0 {'SecondsON': 4, 'Price': 37.9331, 'Action': 23, 'Cost': 0.010536972222222224, 'Comfort': 1.0}\n",
      "21.719271537719546 1.0 {'SecondsON': 10, 'Price': 37.92448, 'Action': 23, 'Cost': 0.026336444444444444, 'Comfort': 1.0}\n",
      "21.27770669521877 1.0 {'SecondsON': 10, 'Price': 38.30509, 'Action': 23, 'Cost': 0.026600756944444442, 'Comfort': 1.0}\n",
      "22.789473715967027 0.9988323473075315 {'SecondsON': 30, 'Price': 38.27193, 'Action': 39, 'Cost': 0.07973318749999998, 'Comfort': 0.9988323473075315}\n",
      "23.47669414966666 0.9966519610581213 {'SecondsON': 0, 'Price': 36.21147, 'Action': 23, 'Cost': 0.0, 'Comfort': 0.9966519610581213}\n",
      "22.627660065574815 0.9999996201904295 {'SecondsON': 0, 'Price': 36.21147, 'Action': 23, 'Cost': 0.0, 'Comfort': 0.9999996201904295}\n",
      "21.81822583529636 1.0 {'SecondsON': 0, 'Price': 37.87261, 'Action': 20, 'Cost': 0.0, 'Comfort': 1.0}\n",
      "21.305220859243224 1.0 {'SecondsON': 13, 'Price': 38.44609000000001, 'Action': 23, 'Cost': 0.03470827569444445, 'Comfort': 1.0}\n",
      "21.664774642570304 1.0 {'SecondsON': 1, 'Price': 38.38975, 'Action': 23, 'Cost': 0.002665954861111111, 'Comfort': 1.0}\n",
      "20.903435642955632 1.0 {'SecondsON': 0, 'Price': 36.21147, 'Action': 20, 'Cost': 0.0, 'Comfort': 1.0}\n",
      "20.174421075864405 1.0 {'SecondsON': 0, 'Price': 35.90156, 'Action': 20, 'Cost': 0.0, 'Comfort': 1.0}\n",
      "20.607512121718283 1.0 {'SecondsON': 16, 'Price': 33.47931, 'Action': 21, 'Cost': 0.03719923333333333, 'Comfort': 1.0}\n",
      "21.539698761732303 1.0 {'SecondsON': 18, 'Price': 36.39669, 'Action': 23, 'Cost': 0.0454958625, 'Comfort': 1.0}\n",
      "21.333967625767016 1.0 {'SecondsON': 2, 'Price': 33.63927, 'Action': 23, 'Cost': 0.004672120833333334, 'Comfort': 1.0}\n",
      "20.777132508178795 1.0 {'SecondsON': 0, 'Price': 36.30408, 'Action': 20, 'Cost': 0.0, 'Comfort': 1.0}\n",
      "21.390637729150157 1.0 {'SecondsON': 22, 'Price': 36.21147, 'Action': 23, 'Cost': 0.055323079166666664, 'Comfort': 1.0}\n",
      "22.833625946593212 0.9991587678865169 {'SecondsON': 24, 'Price': 36.21147, 'Action': 26, 'Cost': 0.060352449999999995, 'Comfort': 0.9991587678865169}\n",
      "22.9819302418417 0.9996966019325041 {'SecondsON': 0, 'Price': 36.11887, 'Action': 23, 'Cost': 0.0, 'Comfort': 0.9996966019325041}\n",
      "22.155972473281953 1.0 {'SecondsON': 0, 'Price': 36.21147, 'Action': 9, 'Cost': 0.0, 'Comfort': 1.0}\n",
      "22.579275556831817 0.9999985792119063 {'SecondsON': 18, 'Price': 32.93322, 'Action': 25, 'Cost': 0.041166525, 'Comfort': 0.9999985792119063}\n",
      "22.321721707514506 1.0 {'SecondsON': 0, 'Price': 34.46844, 'Action': 20, 'Cost': 0.0, 'Comfort': 1.0}\n",
      "21.526556768047897 1.0 {'SecondsON': 0, 'Price': 34.7334, 'Action': 20, 'Cost': 0.0, 'Comfort': 1.0}\n",
      "21.529019574721943 1.0 {'SecondsON': 14, 'Price': 34.6408, 'Action': 23, 'Cost': 0.03367855555555555, 'Comfort': 1.0}\n",
      "21.37945634996707 1.0 {'SecondsON': 0, 'Price': 34.775859999999994, 'Action': 20, 'Cost': 0.0, 'Comfort': 1.0}\n",
      "21.66063990565147 1.0 {'SecondsON': 14, 'Price': 34.81365, 'Action': 23, 'Cost': 0.03384660416666667, 'Comfort': 1.0}\n",
      "21.28300810096353 1.0 {'SecondsON': 6, 'Price': 37.50437, 'Action': 23, 'Cost': 0.015626820833333332, 'Comfort': 1.0}\n",
      "21.073146701623656 1.0 {'SecondsON': 0, 'Price': 33.85844, 'Action': 20, 'Cost': 0.0, 'Comfort': 1.0}\n",
      "21.54695393225836 1.0 {'SecondsON': 18, 'Price': 34.440529999999995, 'Action': 23, 'Cost': 0.04305066249999999, 'Comfort': 1.0}\n",
      "21.340884407413746 1.0 {'SecondsON': 2, 'Price': 33.76583, 'Action': 23, 'Cost': 0.004689698611111111, 'Comfort': 1.0}\n",
      "20.78372668376389 1.0 {'SecondsON': 0, 'Price': 36.07267, 'Action': 20, 'Cost': 0.0, 'Comfort': 1.0}\n",
      "21.396924345363875 1.0 {'SecondsON': 22, 'Price': 39.1582, 'Action': 23, 'Cost': 0.05982502777777778, 'Comfort': 1.0}\n",
      "21.459816370980956 1.0 {'SecondsON': 0, 'Price': 35.93365, 'Action': 14, 'Cost': 0.0, 'Comfort': 1.0}\n",
      "20.704851614248117 1.0 {'SecondsON': 0, 'Price': 39.95508, 'Action': 20, 'Cost': 0.0, 'Comfort': 1.0}\n",
      "21.344967159448167 1.0 {'SecondsON': 23, 'Price': 38.53842, 'Action': 23, 'Cost': 0.06155442083333334, 'Comfort': 1.0}\n",
      "21.48484128930186 1.0 {'SecondsON': 0, 'Price': 38.10096, 'Action': 20, 'Cost': 0.0, 'Comfort': 1.0}\n",
      "20.778639505057516 1.0 {'SecondsON': 6, 'Price': 40.33024, 'Action': 22, 'Cost': 0.016804266666666668, 'Comfort': 1.0}\n",
      "21.67418541752611 1.0 {'SecondsON': 15, 'Price': 40.56608, 'Action': 23, 'Cost': 0.042256333333333326, 'Comfort': 1.0}\n",
      "21.294306718598712 1.0 {'SecondsON': 0, 'Price': 41.08436, 'Action': 9, 'Cost': 0.0, 'Comfort': 1.0}\n",
      "20.547061508303216 1.0 {'SecondsON': 0, 'Price': 41.16193, 'Action': 5, 'Cost': 0.0, 'Comfort': 1.0}\n",
      "19.83466861035287 1.0 {'SecondsON': 0, 'Price': 41.07526, 'Action': 20, 'Cost': 0.0, 'Comfort': 1.0}\n",
      "20.585235614464917 1.0 {'SecondsON': 30, 'Price': 36.35189, 'Action': 28, 'Cost': 0.07573310416666665, 'Comfort': 1.0}\n",
      "21.73455230360997 1.0 {'SecondsON': 4, 'Price': 37.48423, 'Action': 23, 'Cost': 0.01041228611111111, 'Comfort': 1.0}\n",
      "21.34652677106949 1.0 {'SecondsON': 14, 'Price': 25.26, 'Action': 23, 'Cost': 0.02455833333333333, 'Comfort': 1.0}\n",
      "21.61816549632722 1.0 {'SecondsON': 0, 'Price': 19.24483, 'Action': 23, 'Cost': 0.0, 'Comfort': 1.0}\n",
      "20.855815167763197 1.0 {'SecondsON': 1, 'Price': 11.42, 'Action': 22, 'Cost': 0.0007930555555555555, 'Comfort': 1.0}\n",
      "20.22681950246656 1.0 {'SecondsON': 0, 'Price': 11.39429, 'Action': 20, 'Cost': 0.0, 'Comfort': 1.0}\n",
      "20.959096171371296 1.0 {'SecondsON': 29, 'Price': 18.28067, 'Action': 23, 'Cost': 0.036815238194444454, 'Comfort': 1.0}\n",
      "21.63388953078811 1.0 {'SecondsON': 0, 'Price': 24.29672, 'Action': 20, 'Cost': 0.0, 'Comfort': 1.0}\n",
      "21.44865818054433 1.0 {'SecondsON': 14, 'Price': 38.64367, 'Action': 23, 'Cost': 0.037570234722222214, 'Comfort': 1.0}\n",
      "21.485531139355885 1.0 {'SecondsON': 0, 'Price': 38.5578, 'Action': 20, 'Cost': 0.0, 'Comfort': 1.0}\n",
      "21.58081607755763 1.0 {'SecondsON': 14, 'Price': 38.41862, 'Action': 23, 'Cost': 0.037351436111111115, 'Comfort': 1.0}\n",
      "21.337928356235153 1.0 {'SecondsON': 0, 'Price': 33.491170000000004, 'Action': 20, 'Cost': 0.0, 'Comfort': 1.0}\n",
      "20.58864858630787 1.0 {'SecondsON': 0, 'Price': 36.55507, 'Action': 20, 'Cost': 0.0, 'Comfort': 1.0}\n",
      "19.874316022753547 1.0 {'SecondsON': 0, 'Price': 44.72493, 'Action': 20, 'Cost': 0.0, 'Comfort': 1.0}\n",
      "20.623033829330954 1.0 {'SecondsON': 30, 'Price': 40.81957, 'Action': 23, 'Cost': 0.08504077083333333, 'Comfort': 1.0}\n",
      "21.41129932637217 1.0 {'SecondsON': 0, 'Price': 37.83261, 'Action': 20, 'Cost': 0.0, 'Comfort': 1.0}\n",
      "21.645867876704756 1.0 {'SecondsON': 14, 'Price': 36.55507, 'Action': 23, 'Cost': 0.03553965138888889, 'Comfort': 1.0}\n",
      "21.26412470887252 1.0 {'SecondsON': 0, 'Price': 37.27836, 'Action': 20, 'Cost': 0.0, 'Comfort': 1.0}\n",
      "20.51828721965128 1.0 {'SecondsON': 0, 'Price': 38.00617, 'Action': 9, 'Cost': 0.0, 'Comfort': 1.0}\n",
      "21.20366510278541 1.0 {'SecondsON': 25, 'Price': 37.95826, 'Action': 23, 'Cost': 0.06589975694444444, 'Comfort': 1.0}\n",
      "21.50916459937652 1.0 {'SecondsON': 0, 'Price': 34.92496, 'Action': 23, 'Cost': 0.0, 'Comfort': 1.0}\n",
      "21.55792910609879 1.0 {'SecondsON': 14, 'Price': 35.26023, 'Action': 23, 'Cost': 0.034280779166666664, 'Comfort': 1.0}\n",
      "21.361526999234343 1.0 {'SecondsON': 1, 'Price': 36.31961, 'Action': 23, 'Cost': 0.0025221951388888883, 'Comfort': 1.0}\n",
      "20.708944395588386 1.0 {'SecondsON': 0, 'Price': 35.46468, 'Action': 9, 'Cost': 0.0, 'Comfort': 1.0}\n",
      "21.34886904910834 1.0 {'SecondsON': 23, 'Price': 36.10559, 'Action': 23, 'Cost': 0.05766865069444444, 'Comfort': 1.0}\n",
      "21.488561190673177 1.0 {'SecondsON': 0, 'Price': 36.42341, 'Action': 5, 'Cost': 0.0, 'Comfort': 1.0}\n",
      "21.5837048040548 1.0 {'SecondsON': 14, 'Price': 38.40615, 'Action': 23, 'Cost': 0.0373393125, 'Comfort': 1.0}\n",
      "21.344018094041772 1.0 {'SecondsON': 2, 'Price': 36.66542000000001, 'Action': 23, 'Cost': 0.0050924194444444465, 'Comfort': 1.0}\n",
      "21.710382979802155 1.0 {'SecondsON': 12, 'Price': 37.89252000000001, 'Action': 23, 'Cost': 0.031577100000000004, 'Comfort': 1.0}\n",
      "21.19363674716572 1.0 {'SecondsON': 0, 'Price': 36.45518, 'Action': 20, 'Cost': 0.0, 'Comfort': 1.0}\n",
      "20.45108689154072 1.0 {'SecondsON': 0, 'Price': 36.72101, 'Action': 20, 'Cost': 0.0, 'Comfort': 1.0}\n",
      "21.152910241432405 1.0 {'SecondsON': 26, 'Price': 42.97022, 'Action': 23, 'Cost': 0.07758511944444445, 'Comfort': 1.0}\n",
      "21.54526365903318 1.0 {'SecondsON': 0, 'Price': 35.42716, 'Action': 23, 'Cost': 0.0, 'Comfort': 1.0}\n",
      "20.78631354979327 1.0 {'SecondsON': 0, 'Price': 36.52075, 'Action': 20, 'Cost': 0.0, 'Comfort': 1.0}\n",
      "21.399390557206917 1.0 {'SecondsON': 22, 'Price': 36.23746, 'Action': 23, 'Cost': 0.055362786111111104, 'Comfort': 1.0}\n",
      "21.46216755607737 1.0 {'SecondsON': 0, 'Price': 36.54043, 'Action': 20, 'Cost': 0.0, 'Comfort': 1.0}\n",
      "20.70709313756787 1.0 {'SecondsON': 0, 'Price': 40.17248, 'Action': 20, 'Cost': 0.0, 'Comfort': 1.0}\n",
      "21.347104135733304 1.0 {'SecondsON': 23, 'Price': 50.94, 'Action': 23, 'Cost': 0.0813625, 'Comfort': 1.0}\n",
      "21.4868785947374 1.0 {'SecondsON': 0, 'Price': 37.0912, 'Action': 23, 'Cost': 0.0, 'Comfort': 1.0}\n",
      "20.730651627070163 1.0 {'SecondsON': 0, 'Price': 42.44654, 'Action': 1, 'Cost': 0.0, 'Comfort': 1.0}\n",
      "21.36956383219791 1.0 {'SecondsON': 23, 'Price': 43.40376, 'Action': 23, 'Cost': 0.06932545, 'Comfort': 1.0}\n",
      "21.50829074704171 1.0 {'SecondsON': 0, 'Price': 54.18, 'Action': 9, 'Cost': 0.0, 'Comfort': 1.0}\n",
      "21.557096011167427 1.0 {'SecondsON': 14, 'Price': 49.94842, 'Action': 23, 'Cost': 0.048560963888888885, 'Comfort': 1.0}\n",
      "21.36073276073773 1.0 {'SecondsON': 1, 'Price': 54.18, 'Action': 23, 'Cost': 0.0037625, 'Comfort': 1.0}\n",
      "20.70818720122104 1.0 {'SecondsON': 0, 'Price': 54.18, 'Action': 20, 'Cost': 0.0, 'Comfort': 1.0}\n",
      "19.98827922937121 1.0 {'SecondsON': 0, 'Price': 54.18, 'Action': 20, 'Cost': 0.0, 'Comfort': 1.0}\n",
      "20.06248893855169 1.0 {'SecondsON': 14, 'Price': 36.75034, 'Action': 20, 'Cost': 0.03572949722222222, 'Comfort': 1.0}\n",
      "19.9813262643675 1.0 {'SecondsON': 0, 'Price': 39.45917, 'Action': 20, 'Cost': 0.0, 'Comfort': 1.0}\n",
      "20.72505299932145 1.0 {'SecondsON': 30, 'Price': 39.00603, 'Action': 23, 'Cost': 0.0812625625, 'Comfort': 1.0}\n",
      "21.69459511505615 1.0 {'SecondsON': 2, 'Price': 38.19144, 'Action': 23, 'Cost': 0.005304366666666667, 'Comfort': 1.0}\n",
      "20.93824079050545 1.0 {'SecondsON': 0, 'Price': 43.63369, 'Action': 17, 'Cost': 0.0, 'Comfort': 1.0}\n"
     ]
    }
   ],
   "source": [
    "seconds3 = []\n",
    "price3 = []\n",
    "reward3 = []\n",
    "temp3 = []\n",
    "setpoint3 = []\n",
    "times = []\n",
    "obs = env.reset()\n",
    "dones = False\n",
    "#while not dones:\n",
    "for i in range(500):\n",
    "    action, _states = model2.predict(obs)\n",
    "   \n",
    "    obs, rewards, dones, info = env.step(action)\n",
    "    \n",
    "    seconds3.append(info['SecondsON'])\n",
    "    setpoint3.append((info['Action']/2) + 10)\n",
    "    reward3.append(rewards)\n",
    "    times.append(i)\n",
    "    temp3.append(obs[0])\n",
    "    print(obs[0],rewards,info)\n",
    "   # env.render(mode='human')"
   ]
  },
  {
   "cell_type": "code",
   "execution_count": 15,
   "metadata": {},
   "outputs": [],
   "source": [
    "%matplotlib inline\n",
    "import matplotlib.pyplot as plt"
   ]
  },
  {
   "cell_type": "code",
   "execution_count": 16,
   "metadata": {},
   "outputs": [
    {
     "data": {
      "image/png": "[encoded data removed]",
      "text/plain": [
       "<Figure size 990x450 with 2 Axes>"
      ]
     },
     "metadata": {
      "needs_background": "light"
     },
     "output_type": "display_data"
    }
   ],
   "source": [
    "### Plot the resulting temperature trajectory.\n",
    "f, (ax1, ax2) = plt.subplots(2, 1, sharex=True, figsize=(11,5), dpi=90)\n",
    "plt.subplots_adjust(hspace=0.075) # Reduce space between plots\n",
    "#ax1.axvspan(start, start+length, facecolor='0.95') # Shade the demand-response times with grey background\n",
    "ax1.axhline(y=21, linestyle=':', color='red') # Plot the goal temperature\n",
    "ax1.plot(times, temp3) # Plot the observed temperatures\n",
    "ax1.set_ylabel('Temperature')\n",
    "ax1.set_ylim(17,26)\n",
    "ax2.plot(times, reward3) # Plot the activations on a separate axis.\n",
    "ax2.set_xlabel('Timestep')\n",
    "ax2.set_ylabel('Reward');"
   ]
  },
  {
   "cell_type": "code",
   "execution_count": 30,
   "metadata": {},
   "outputs": [
    {
     "data": {
      "text/plain": [
       "-1343.1665288827978"
      ]
     },
     "execution_count": 30,
     "metadata": {},
     "output_type": "execute_result"
    }
   ],
   "source": [
    "min(reward3)"
   ]
  },
  {
   "cell_type": "code",
   "execution_count": 32,
   "metadata": {},
   "outputs": [
    {
     "data": {
      "text/plain": [
       "-2641.95817845267"
      ]
     },
     "execution_count": 32,
     "metadata": {},
     "output_type": "execute_result"
    }
   ],
   "source": [
    "min(reward3)"
   ]
  },
  {
   "cell_type": "code",
   "execution_count": null,
   "metadata": {},
   "outputs": [],
   "source": [
    "### Plot the resulting temperature trajectory.\n",
    "f, (ax1, ax2) = plt.subplots(2, 1, sharex=True, figsize=(11,5), dpi=90)\n",
    "plt.subplots_adjust(hspace=0.075) # Reduce space between plots\n",
    "#ax1.axvspan(start, start+length, facecolor='0.95') # Shade the demand-response times with grey background\n",
    "ax1.axhline(y=20, linestyle=':', color='black') # Plot the goal temperature\n",
    "ax1.plot(times, temps) # Plot the observed temperatures\n",
    "ax1.set_ylabel('Temperature')\n",
    "ax1.set_ylim(17.5,22.5)\n",
    "ax2.bar(times, uses) # Plot the activations on a separate axis.\n",
    "ax2.set_xlabel('Timestep')\n",
    "ax2.set_ylabel('Power');"
   ]
  },
  {
   "cell_type": "code",
   "execution_count": null,
   "metadata": {},
   "outputs": [],
   "source": []
  }
 ],
 "metadata": {
  "kernelspec": {
   "display_name": "Python 3",
   "language": "python",
   "name": "python3"
  },
  "language_info": {
   "codemirror_mode": {
    "name": "ipython",
    "version": 3
   },
   "file_extension": ".py",
   "mimetype": "text/x-python",
   "name": "python",
   "nbconvert_exporter": "python",
   "pygments_lexer": "ipython3",
   "version": "3.6.9"
  }
 },
 "nbformat": 4,
 "nbformat_minor": 4
}
